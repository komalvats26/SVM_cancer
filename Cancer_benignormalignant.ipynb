{
 "cells": [
  {
   "cell_type": "markdown",
   "metadata": {},
   "source": [
    "# Given medical information, we need to find that a patient has cancer or not\n",
    "\n",
    "**Class 2** : **Benign - means not Cancerour**\n",
    "\n",
    "\n",
    "**Class 4** : **Malignant - means Cancerous**"
   ]
  },
  {
   "cell_type": "code",
   "execution_count": 1,
   "metadata": {},
   "outputs": [],
   "source": [
    "import numpy as np\n",
    "import pandas as pd\n",
    "\n",
    "import matplotlib.pyplot as plt\n",
    "%matplotlib inline"
   ]
  },
  {
   "cell_type": "code",
   "execution_count": 10,
   "metadata": {},
   "outputs": [
    {
     "data": {
      "text/plain": [
       "0    5\n",
       "1    5\n",
       "2    3\n",
       "3    6\n",
       "4    4\n",
       "Name: clump_thickness, dtype: int64"
      ]
     },
     "execution_count": 10,
     "metadata": {},
     "output_type": "execute_result"
    }
   ],
   "source": [
    "df.iloc[:,1].head()"
   ]
  },
  {
   "cell_type": "code",
   "execution_count": 3,
   "metadata": {},
   "outputs": [],
   "source": [
    "# Reading it from CSV\n",
    "df = pd.read_csv('cancer_data.csv')\n",
    "\n",
    "# To save data into your system\n",
    "# df.to_csv('cvd.csv', index = False)"
   ]
  },
  {
   "cell_type": "code",
   "execution_count": 4,
   "metadata": {},
   "outputs": [
    {
     "data": {
      "text/html": [
       "<div>\n",
       "<style scoped>\n",
       "    .dataframe tbody tr th:only-of-type {\n",
       "        vertical-align: middle;\n",
       "    }\n",
       "\n",
       "    .dataframe tbody tr th {\n",
       "        vertical-align: top;\n",
       "    }\n",
       "\n",
       "    .dataframe thead th {\n",
       "        text-align: right;\n",
       "    }\n",
       "</style>\n",
       "<table border=\"1\" class=\"dataframe\">\n",
       "  <thead>\n",
       "    <tr style=\"text-align: right;\">\n",
       "      <th></th>\n",
       "      <th>id</th>\n",
       "      <th>clump_thickness</th>\n",
       "      <th>uniform_cell_size</th>\n",
       "      <th>uniform_cell_shape</th>\n",
       "      <th>marginal_adhesion</th>\n",
       "      <th>single_epithelial_size</th>\n",
       "      <th>bare_nuclei</th>\n",
       "      <th>bland_chromatin</th>\n",
       "      <th>normal_nucleoli</th>\n",
       "      <th>mitoses</th>\n",
       "      <th>class</th>\n",
       "    </tr>\n",
       "  </thead>\n",
       "  <tbody>\n",
       "    <tr>\n",
       "      <th>0</th>\n",
       "      <td>1000025</td>\n",
       "      <td>5</td>\n",
       "      <td>1</td>\n",
       "      <td>1</td>\n",
       "      <td>1</td>\n",
       "      <td>2</td>\n",
       "      <td>1</td>\n",
       "      <td>3</td>\n",
       "      <td>1</td>\n",
       "      <td>1</td>\n",
       "      <td>2</td>\n",
       "    </tr>\n",
       "    <tr>\n",
       "      <th>1</th>\n",
       "      <td>1002945</td>\n",
       "      <td>5</td>\n",
       "      <td>4</td>\n",
       "      <td>4</td>\n",
       "      <td>5</td>\n",
       "      <td>7</td>\n",
       "      <td>10</td>\n",
       "      <td>3</td>\n",
       "      <td>2</td>\n",
       "      <td>1</td>\n",
       "      <td>2</td>\n",
       "    </tr>\n",
       "    <tr>\n",
       "      <th>2</th>\n",
       "      <td>1015425</td>\n",
       "      <td>3</td>\n",
       "      <td>1</td>\n",
       "      <td>1</td>\n",
       "      <td>1</td>\n",
       "      <td>2</td>\n",
       "      <td>2</td>\n",
       "      <td>3</td>\n",
       "      <td>1</td>\n",
       "      <td>1</td>\n",
       "      <td>2</td>\n",
       "    </tr>\n",
       "    <tr>\n",
       "      <th>3</th>\n",
       "      <td>1016277</td>\n",
       "      <td>6</td>\n",
       "      <td>8</td>\n",
       "      <td>8</td>\n",
       "      <td>1</td>\n",
       "      <td>3</td>\n",
       "      <td>4</td>\n",
       "      <td>3</td>\n",
       "      <td>7</td>\n",
       "      <td>1</td>\n",
       "      <td>2</td>\n",
       "    </tr>\n",
       "    <tr>\n",
       "      <th>4</th>\n",
       "      <td>1017023</td>\n",
       "      <td>4</td>\n",
       "      <td>1</td>\n",
       "      <td>1</td>\n",
       "      <td>3</td>\n",
       "      <td>2</td>\n",
       "      <td>1</td>\n",
       "      <td>3</td>\n",
       "      <td>1</td>\n",
       "      <td>1</td>\n",
       "      <td>2</td>\n",
       "    </tr>\n",
       "  </tbody>\n",
       "</table>\n",
       "</div>"
      ],
      "text/plain": [
       "        id  clump_thickness  uniform_cell_size  uniform_cell_shape  \\\n",
       "0  1000025                5                  1                   1   \n",
       "1  1002945                5                  4                   4   \n",
       "2  1015425                3                  1                   1   \n",
       "3  1016277                6                  8                   8   \n",
       "4  1017023                4                  1                   1   \n",
       "\n",
       "   marginal_adhesion  single_epithelial_size bare_nuclei  bland_chromatin  \\\n",
       "0                  1                       2           1                3   \n",
       "1                  5                       7          10                3   \n",
       "2                  1                       2           2                3   \n",
       "3                  1                       3           4                3   \n",
       "4                  3                       2           1                3   \n",
       "\n",
       "   normal_nucleoli  mitoses  class  \n",
       "0                1        1      2  \n",
       "1                2        1      2  \n",
       "2                1        1      2  \n",
       "3                7        1      2  \n",
       "4                1        1      2  "
      ]
     },
     "execution_count": 4,
     "metadata": {},
     "output_type": "execute_result"
    }
   ],
   "source": [
    "df.head()"
   ]
  },
  {
   "cell_type": "code",
   "execution_count": 5,
   "metadata": {},
   "outputs": [
    {
     "data": {
      "text/plain": [
       "array([2, 4], dtype=int64)"
      ]
     },
     "execution_count": 5,
     "metadata": {},
     "output_type": "execute_result"
    }
   ],
   "source": [
    "df['class'].unique() # 2 - Benign , 4 - Maliglant"
   ]
  },
  {
   "cell_type": "code",
   "execution_count": 6,
   "metadata": {},
   "outputs": [
    {
     "name": "stdout",
     "output_type": "stream",
     "text": [
      "<class 'pandas.core.frame.DataFrame'>\n",
      "RangeIndex: 699 entries, 0 to 698\n",
      "Data columns (total 11 columns):\n",
      " #   Column                  Non-Null Count  Dtype \n",
      "---  ------                  --------------  ----- \n",
      " 0   id                      699 non-null    int64 \n",
      " 1   clump_thickness         699 non-null    int64 \n",
      " 2   uniform_cell_size       699 non-null    int64 \n",
      " 3   uniform_cell_shape      699 non-null    int64 \n",
      " 4   marginal_adhesion       699 non-null    int64 \n",
      " 5   single_epithelial_size  699 non-null    int64 \n",
      " 6   bare_nuclei             699 non-null    object\n",
      " 7   bland_chromatin         699 non-null    int64 \n",
      " 8   normal_nucleoli         699 non-null    int64 \n",
      " 9   mitoses                 699 non-null    int64 \n",
      " 10  class                   699 non-null    int64 \n",
      "dtypes: int64(10), object(1)\n",
      "memory usage: 60.2+ KB\n"
     ]
    }
   ],
   "source": [
    "df.info()"
   ]
  },
  {
   "cell_type": "code",
   "execution_count": 7,
   "metadata": {},
   "outputs": [
    {
     "data": {
      "text/plain": [
       "id                        0\n",
       "clump_thickness           0\n",
       "uniform_cell_size         0\n",
       "uniform_cell_shape        0\n",
       "marginal_adhesion         0\n",
       "single_epithelial_size    0\n",
       "bare_nuclei               0\n",
       "bland_chromatin           0\n",
       "normal_nucleoli           0\n",
       "mitoses                   0\n",
       "class                     0\n",
       "dtype: int64"
      ]
     },
     "execution_count": 7,
     "metadata": {},
     "output_type": "execute_result"
    }
   ],
   "source": [
    "df.isnull().sum()"
   ]
  },
  {
   "cell_type": "code",
   "execution_count": 8,
   "metadata": {},
   "outputs": [
    {
     "data": {
      "text/html": [
       "<div>\n",
       "<style scoped>\n",
       "    .dataframe tbody tr th:only-of-type {\n",
       "        vertical-align: middle;\n",
       "    }\n",
       "\n",
       "    .dataframe tbody tr th {\n",
       "        vertical-align: top;\n",
       "    }\n",
       "\n",
       "    .dataframe thead th {\n",
       "        text-align: right;\n",
       "    }\n",
       "</style>\n",
       "<table border=\"1\" class=\"dataframe\">\n",
       "  <thead>\n",
       "    <tr style=\"text-align: right;\">\n",
       "      <th></th>\n",
       "      <th>id</th>\n",
       "      <th>clump_thickness</th>\n",
       "      <th>uniform_cell_size</th>\n",
       "      <th>uniform_cell_shape</th>\n",
       "      <th>marginal_adhesion</th>\n",
       "      <th>single_epithelial_size</th>\n",
       "      <th>bland_chromatin</th>\n",
       "      <th>normal_nucleoli</th>\n",
       "      <th>mitoses</th>\n",
       "      <th>class</th>\n",
       "    </tr>\n",
       "  </thead>\n",
       "  <tbody>\n",
       "    <tr>\n",
       "      <th>count</th>\n",
       "      <td>6.990000e+02</td>\n",
       "      <td>699.000000</td>\n",
       "      <td>699.000000</td>\n",
       "      <td>699.000000</td>\n",
       "      <td>699.000000</td>\n",
       "      <td>699.000000</td>\n",
       "      <td>699.000000</td>\n",
       "      <td>699.000000</td>\n",
       "      <td>699.000000</td>\n",
       "      <td>699.000000</td>\n",
       "    </tr>\n",
       "    <tr>\n",
       "      <th>mean</th>\n",
       "      <td>1.071704e+06</td>\n",
       "      <td>4.417740</td>\n",
       "      <td>3.134478</td>\n",
       "      <td>3.207439</td>\n",
       "      <td>2.806867</td>\n",
       "      <td>3.216023</td>\n",
       "      <td>3.437768</td>\n",
       "      <td>2.866953</td>\n",
       "      <td>1.589413</td>\n",
       "      <td>2.689557</td>\n",
       "    </tr>\n",
       "    <tr>\n",
       "      <th>std</th>\n",
       "      <td>6.170957e+05</td>\n",
       "      <td>2.815741</td>\n",
       "      <td>3.051459</td>\n",
       "      <td>2.971913</td>\n",
       "      <td>2.855379</td>\n",
       "      <td>2.214300</td>\n",
       "      <td>2.438364</td>\n",
       "      <td>3.053634</td>\n",
       "      <td>1.715078</td>\n",
       "      <td>0.951273</td>\n",
       "    </tr>\n",
       "    <tr>\n",
       "      <th>min</th>\n",
       "      <td>6.163400e+04</td>\n",
       "      <td>1.000000</td>\n",
       "      <td>1.000000</td>\n",
       "      <td>1.000000</td>\n",
       "      <td>1.000000</td>\n",
       "      <td>1.000000</td>\n",
       "      <td>1.000000</td>\n",
       "      <td>1.000000</td>\n",
       "      <td>1.000000</td>\n",
       "      <td>2.000000</td>\n",
       "    </tr>\n",
       "    <tr>\n",
       "      <th>25%</th>\n",
       "      <td>8.706885e+05</td>\n",
       "      <td>2.000000</td>\n",
       "      <td>1.000000</td>\n",
       "      <td>1.000000</td>\n",
       "      <td>1.000000</td>\n",
       "      <td>2.000000</td>\n",
       "      <td>2.000000</td>\n",
       "      <td>1.000000</td>\n",
       "      <td>1.000000</td>\n",
       "      <td>2.000000</td>\n",
       "    </tr>\n",
       "    <tr>\n",
       "      <th>50%</th>\n",
       "      <td>1.171710e+06</td>\n",
       "      <td>4.000000</td>\n",
       "      <td>1.000000</td>\n",
       "      <td>1.000000</td>\n",
       "      <td>1.000000</td>\n",
       "      <td>2.000000</td>\n",
       "      <td>3.000000</td>\n",
       "      <td>1.000000</td>\n",
       "      <td>1.000000</td>\n",
       "      <td>2.000000</td>\n",
       "    </tr>\n",
       "    <tr>\n",
       "      <th>75%</th>\n",
       "      <td>1.238298e+06</td>\n",
       "      <td>6.000000</td>\n",
       "      <td>5.000000</td>\n",
       "      <td>5.000000</td>\n",
       "      <td>4.000000</td>\n",
       "      <td>4.000000</td>\n",
       "      <td>5.000000</td>\n",
       "      <td>4.000000</td>\n",
       "      <td>1.000000</td>\n",
       "      <td>4.000000</td>\n",
       "    </tr>\n",
       "    <tr>\n",
       "      <th>max</th>\n",
       "      <td>1.345435e+07</td>\n",
       "      <td>10.000000</td>\n",
       "      <td>10.000000</td>\n",
       "      <td>10.000000</td>\n",
       "      <td>10.000000</td>\n",
       "      <td>10.000000</td>\n",
       "      <td>10.000000</td>\n",
       "      <td>10.000000</td>\n",
       "      <td>10.000000</td>\n",
       "      <td>4.000000</td>\n",
       "    </tr>\n",
       "  </tbody>\n",
       "</table>\n",
       "</div>"
      ],
      "text/plain": [
       "                 id  clump_thickness  uniform_cell_size  uniform_cell_shape  \\\n",
       "count  6.990000e+02       699.000000         699.000000          699.000000   \n",
       "mean   1.071704e+06         4.417740           3.134478            3.207439   \n",
       "std    6.170957e+05         2.815741           3.051459            2.971913   \n",
       "min    6.163400e+04         1.000000           1.000000            1.000000   \n",
       "25%    8.706885e+05         2.000000           1.000000            1.000000   \n",
       "50%    1.171710e+06         4.000000           1.000000            1.000000   \n",
       "75%    1.238298e+06         6.000000           5.000000            5.000000   \n",
       "max    1.345435e+07        10.000000          10.000000           10.000000   \n",
       "\n",
       "       marginal_adhesion  single_epithelial_size  bland_chromatin  \\\n",
       "count         699.000000              699.000000       699.000000   \n",
       "mean            2.806867                3.216023         3.437768   \n",
       "std             2.855379                2.214300         2.438364   \n",
       "min             1.000000                1.000000         1.000000   \n",
       "25%             1.000000                2.000000         2.000000   \n",
       "50%             1.000000                2.000000         3.000000   \n",
       "75%             4.000000                4.000000         5.000000   \n",
       "max            10.000000               10.000000        10.000000   \n",
       "\n",
       "       normal_nucleoli     mitoses       class  \n",
       "count       699.000000  699.000000  699.000000  \n",
       "mean          2.866953    1.589413    2.689557  \n",
       "std           3.053634    1.715078    0.951273  \n",
       "min           1.000000    1.000000    2.000000  \n",
       "25%           1.000000    1.000000    2.000000  \n",
       "50%           1.000000    1.000000    2.000000  \n",
       "75%           4.000000    1.000000    4.000000  \n",
       "max          10.000000   10.000000    4.000000  "
      ]
     },
     "execution_count": 8,
     "metadata": {},
     "output_type": "execute_result"
    }
   ],
   "source": [
    "df.describe()"
   ]
  },
  {
   "cell_type": "code",
   "execution_count": 9,
   "metadata": {},
   "outputs": [
    {
     "data": {
      "text/plain": [
       "array(['1', '10', '2', '4', '3', '9', '7', '?', '5', '8', '6'],\n",
       "      dtype=object)"
      ]
     },
     "execution_count": 9,
     "metadata": {},
     "output_type": "execute_result"
    }
   ],
   "source": [
    "df.bare_nuclei.unique()"
   ]
  },
  {
   "cell_type": "code",
   "execution_count": 10,
   "metadata": {},
   "outputs": [
    {
     "data": {
      "text/plain": [
       "1"
      ]
     },
     "execution_count": 10,
     "metadata": {},
     "output_type": "execute_result"
    }
   ],
   "source": [
    "int(df.bare_nuclei.mode()[0])"
   ]
  },
  {
   "cell_type": "code",
   "execution_count": 11,
   "metadata": {},
   "outputs": [
    {
     "data": {
      "text/plain": [
       "1     402\n",
       "10    132\n",
       "2      30\n",
       "5      30\n",
       "3      28\n",
       "8      21\n",
       "4      19\n",
       "?      16\n",
       "9       9\n",
       "7       8\n",
       "6       4\n",
       "Name: bare_nuclei, dtype: int64"
      ]
     },
     "execution_count": 11,
     "metadata": {},
     "output_type": "execute_result"
    }
   ],
   "source": [
    "df.bare_nuclei.value_counts()"
   ]
  },
  {
   "cell_type": "code",
   "execution_count": 12,
   "metadata": {},
   "outputs": [
    {
     "data": {
      "text/plain": [
       "0       1\n",
       "1      10\n",
       "2       2\n",
       "3       4\n",
       "4       1\n",
       "       ..\n",
       "694     2\n",
       "695     1\n",
       "696     3\n",
       "697     4\n",
       "698     5\n",
       "Name: bare_nuclei, Length: 699, dtype: object"
      ]
     },
     "execution_count": 12,
     "metadata": {},
     "output_type": "execute_result"
    }
   ],
   "source": [
    "df['bare_nuclei'].replace('?', df.bare_nuclei.mode()[0] )"
   ]
  },
  {
   "cell_type": "code",
   "execution_count": 4,
   "metadata": {},
   "outputs": [],
   "source": [
    "df['bare_nuclei'] = df['bare_nuclei'].apply(lambda x: int(df.bare_nuclei.mode()[0]) if x=='?' else int(x))"
   ]
  },
  {
   "cell_type": "code",
   "execution_count": 14,
   "metadata": {
    "collapsed": true
   },
   "outputs": [
    {
     "ename": "TypeError",
     "evalue": "Cannot compare types 'ndarray(dtype=int64)' and 'str'",
     "output_type": "error",
     "traceback": [
      "\u001b[1;31m---------------------------------------------------------------------------\u001b[0m",
      "\u001b[1;31mTypeError\u001b[0m                                 Traceback (most recent call last)",
      "\u001b[1;32m<ipython-input-14-7abfe8e41bee>\u001b[0m in \u001b[0;36m<module>\u001b[1;34m\u001b[0m\n\u001b[1;32m----> 1\u001b[1;33m \u001b[0mdf\u001b[0m\u001b[1;33m[\u001b[0m\u001b[1;34m\"bare_nuclei\"\u001b[0m\u001b[1;33m]\u001b[0m\u001b[1;33m.\u001b[0m\u001b[0mreplace\u001b[0m\u001b[1;33m(\u001b[0m\u001b[1;33m{\u001b[0m\u001b[1;34m\"?\"\u001b[0m\u001b[1;33m:\u001b[0m \u001b[1;36m1\u001b[0m\u001b[1;33m}\u001b[0m\u001b[1;33m)\u001b[0m\u001b[1;33m.\u001b[0m\u001b[0mhead\u001b[0m\u001b[1;33m(\u001b[0m\u001b[1;33m)\u001b[0m\u001b[1;33m\u001b[0m\u001b[1;33m\u001b[0m\u001b[0m\n\u001b[0m",
      "\u001b[1;32m~\\anaconda3\\lib\\site-packages\\pandas\\core\\series.py\u001b[0m in \u001b[0;36mreplace\u001b[1;34m(self, to_replace, value, inplace, limit, regex, method)\u001b[0m\n\u001b[0;32m   4176\u001b[0m             \u001b[0mlimit\u001b[0m\u001b[1;33m=\u001b[0m\u001b[0mlimit\u001b[0m\u001b[1;33m,\u001b[0m\u001b[1;33m\u001b[0m\u001b[1;33m\u001b[0m\u001b[0m\n\u001b[0;32m   4177\u001b[0m             \u001b[0mregex\u001b[0m\u001b[1;33m=\u001b[0m\u001b[0mregex\u001b[0m\u001b[1;33m,\u001b[0m\u001b[1;33m\u001b[0m\u001b[1;33m\u001b[0m\u001b[0m\n\u001b[1;32m-> 4178\u001b[1;33m             \u001b[0mmethod\u001b[0m\u001b[1;33m=\u001b[0m\u001b[0mmethod\u001b[0m\u001b[1;33m,\u001b[0m\u001b[1;33m\u001b[0m\u001b[1;33m\u001b[0m\u001b[0m\n\u001b[0m\u001b[0;32m   4179\u001b[0m         )\n\u001b[0;32m   4180\u001b[0m \u001b[1;33m\u001b[0m\u001b[0m\n",
      "\u001b[1;32m~\\anaconda3\\lib\\site-packages\\pandas\\core\\generic.py\u001b[0m in \u001b[0;36mreplace\u001b[1;34m(self, to_replace, value, inplace, limit, regex, method)\u001b[0m\n\u001b[0;32m   6644\u001b[0m \u001b[1;33m\u001b[0m\u001b[0m\n\u001b[0;32m   6645\u001b[0m             return self.replace(\n\u001b[1;32m-> 6646\u001b[1;33m                 \u001b[0mto_replace\u001b[0m\u001b[1;33m,\u001b[0m \u001b[0mvalue\u001b[0m\u001b[1;33m,\u001b[0m \u001b[0minplace\u001b[0m\u001b[1;33m=\u001b[0m\u001b[0minplace\u001b[0m\u001b[1;33m,\u001b[0m \u001b[0mlimit\u001b[0m\u001b[1;33m=\u001b[0m\u001b[0mlimit\u001b[0m\u001b[1;33m,\u001b[0m \u001b[0mregex\u001b[0m\u001b[1;33m=\u001b[0m\u001b[0mregex\u001b[0m\u001b[1;33m\u001b[0m\u001b[1;33m\u001b[0m\u001b[0m\n\u001b[0m\u001b[0;32m   6647\u001b[0m             )\n\u001b[0;32m   6648\u001b[0m         \u001b[1;32melse\u001b[0m\u001b[1;33m:\u001b[0m\u001b[1;33m\u001b[0m\u001b[1;33m\u001b[0m\u001b[0m\n",
      "\u001b[1;32m~\\anaconda3\\lib\\site-packages\\pandas\\core\\series.py\u001b[0m in \u001b[0;36mreplace\u001b[1;34m(self, to_replace, value, inplace, limit, regex, method)\u001b[0m\n\u001b[0;32m   4176\u001b[0m             \u001b[0mlimit\u001b[0m\u001b[1;33m=\u001b[0m\u001b[0mlimit\u001b[0m\u001b[1;33m,\u001b[0m\u001b[1;33m\u001b[0m\u001b[1;33m\u001b[0m\u001b[0m\n\u001b[0;32m   4177\u001b[0m             \u001b[0mregex\u001b[0m\u001b[1;33m=\u001b[0m\u001b[0mregex\u001b[0m\u001b[1;33m,\u001b[0m\u001b[1;33m\u001b[0m\u001b[1;33m\u001b[0m\u001b[0m\n\u001b[1;32m-> 4178\u001b[1;33m             \u001b[0mmethod\u001b[0m\u001b[1;33m=\u001b[0m\u001b[0mmethod\u001b[0m\u001b[1;33m,\u001b[0m\u001b[1;33m\u001b[0m\u001b[1;33m\u001b[0m\u001b[0m\n\u001b[0m\u001b[0;32m   4179\u001b[0m         )\n\u001b[0;32m   4180\u001b[0m \u001b[1;33m\u001b[0m\u001b[0m\n",
      "\u001b[1;32m~\\anaconda3\\lib\\site-packages\\pandas\\core\\generic.py\u001b[0m in \u001b[0;36mreplace\u001b[1;34m(self, to_replace, value, inplace, limit, regex, method)\u001b[0m\n\u001b[0;32m   6697\u001b[0m                         \u001b[0mdest_list\u001b[0m\u001b[1;33m=\u001b[0m\u001b[0mvalue\u001b[0m\u001b[1;33m,\u001b[0m\u001b[1;33m\u001b[0m\u001b[1;33m\u001b[0m\u001b[0m\n\u001b[0;32m   6698\u001b[0m                         \u001b[0minplace\u001b[0m\u001b[1;33m=\u001b[0m\u001b[0minplace\u001b[0m\u001b[1;33m,\u001b[0m\u001b[1;33m\u001b[0m\u001b[1;33m\u001b[0m\u001b[0m\n\u001b[1;32m-> 6699\u001b[1;33m                         \u001b[0mregex\u001b[0m\u001b[1;33m=\u001b[0m\u001b[0mregex\u001b[0m\u001b[1;33m,\u001b[0m\u001b[1;33m\u001b[0m\u001b[1;33m\u001b[0m\u001b[0m\n\u001b[0m\u001b[0;32m   6700\u001b[0m                     )\n\u001b[0;32m   6701\u001b[0m \u001b[1;33m\u001b[0m\u001b[0m\n",
      "\u001b[1;32m~\\anaconda3\\lib\\site-packages\\pandas\\core\\internals\\managers.py\u001b[0m in \u001b[0;36mreplace_list\u001b[1;34m(self, src_list, dest_list, inplace, regex)\u001b[0m\n\u001b[0;32m    611\u001b[0m             \u001b[1;32mreturn\u001b[0m \u001b[0m_compare_or_regex_search\u001b[0m\u001b[1;33m(\u001b[0m\u001b[0mvalues\u001b[0m\u001b[1;33m,\u001b[0m \u001b[0ms\u001b[0m\u001b[1;33m,\u001b[0m \u001b[0mregex\u001b[0m\u001b[1;33m)\u001b[0m\u001b[1;33m\u001b[0m\u001b[1;33m\u001b[0m\u001b[0m\n\u001b[0;32m    612\u001b[0m \u001b[1;33m\u001b[0m\u001b[0m\n\u001b[1;32m--> 613\u001b[1;33m         \u001b[0mmasks\u001b[0m \u001b[1;33m=\u001b[0m \u001b[1;33m[\u001b[0m\u001b[0mcomp\u001b[0m\u001b[1;33m(\u001b[0m\u001b[0ms\u001b[0m\u001b[1;33m,\u001b[0m \u001b[0mregex\u001b[0m\u001b[1;33m)\u001b[0m \u001b[1;32mfor\u001b[0m \u001b[0mi\u001b[0m\u001b[1;33m,\u001b[0m \u001b[0ms\u001b[0m \u001b[1;32min\u001b[0m \u001b[0menumerate\u001b[0m\u001b[1;33m(\u001b[0m\u001b[0msrc_list\u001b[0m\u001b[1;33m)\u001b[0m\u001b[1;33m]\u001b[0m\u001b[1;33m\u001b[0m\u001b[1;33m\u001b[0m\u001b[0m\n\u001b[0m\u001b[0;32m    614\u001b[0m \u001b[1;33m\u001b[0m\u001b[0m\n\u001b[0;32m    615\u001b[0m         \u001b[0mresult_blocks\u001b[0m \u001b[1;33m=\u001b[0m \u001b[1;33m[\u001b[0m\u001b[1;33m]\u001b[0m\u001b[1;33m\u001b[0m\u001b[1;33m\u001b[0m\u001b[0m\n",
      "\u001b[1;32m~\\anaconda3\\lib\\site-packages\\pandas\\core\\internals\\managers.py\u001b[0m in \u001b[0;36m<listcomp>\u001b[1;34m(.0)\u001b[0m\n\u001b[0;32m    611\u001b[0m             \u001b[1;32mreturn\u001b[0m \u001b[0m_compare_or_regex_search\u001b[0m\u001b[1;33m(\u001b[0m\u001b[0mvalues\u001b[0m\u001b[1;33m,\u001b[0m \u001b[0ms\u001b[0m\u001b[1;33m,\u001b[0m \u001b[0mregex\u001b[0m\u001b[1;33m)\u001b[0m\u001b[1;33m\u001b[0m\u001b[1;33m\u001b[0m\u001b[0m\n\u001b[0;32m    612\u001b[0m \u001b[1;33m\u001b[0m\u001b[0m\n\u001b[1;32m--> 613\u001b[1;33m         \u001b[0mmasks\u001b[0m \u001b[1;33m=\u001b[0m \u001b[1;33m[\u001b[0m\u001b[0mcomp\u001b[0m\u001b[1;33m(\u001b[0m\u001b[0ms\u001b[0m\u001b[1;33m,\u001b[0m \u001b[0mregex\u001b[0m\u001b[1;33m)\u001b[0m \u001b[1;32mfor\u001b[0m \u001b[0mi\u001b[0m\u001b[1;33m,\u001b[0m \u001b[0ms\u001b[0m \u001b[1;32min\u001b[0m \u001b[0menumerate\u001b[0m\u001b[1;33m(\u001b[0m\u001b[0msrc_list\u001b[0m\u001b[1;33m)\u001b[0m\u001b[1;33m]\u001b[0m\u001b[1;33m\u001b[0m\u001b[1;33m\u001b[0m\u001b[0m\n\u001b[0m\u001b[0;32m    614\u001b[0m \u001b[1;33m\u001b[0m\u001b[0m\n\u001b[0;32m    615\u001b[0m         \u001b[0mresult_blocks\u001b[0m \u001b[1;33m=\u001b[0m \u001b[1;33m[\u001b[0m\u001b[1;33m]\u001b[0m\u001b[1;33m\u001b[0m\u001b[1;33m\u001b[0m\u001b[0m\n",
      "\u001b[1;32m~\\anaconda3\\lib\\site-packages\\pandas\\core\\internals\\managers.py\u001b[0m in \u001b[0;36mcomp\u001b[1;34m(s, regex)\u001b[0m\n\u001b[0;32m    609\u001b[0m                     \u001b[0mmaybe_convert_objects\u001b[0m\u001b[1;33m(\u001b[0m\u001b[0mvalues\u001b[0m\u001b[1;33m)\u001b[0m\u001b[1;33m,\u001b[0m \u001b[0ms\u001b[0m\u001b[1;33m.\u001b[0m\u001b[0masm8\u001b[0m\u001b[1;33m,\u001b[0m \u001b[0mregex\u001b[0m\u001b[1;33m\u001b[0m\u001b[1;33m\u001b[0m\u001b[0m\n\u001b[0;32m    610\u001b[0m                 )\n\u001b[1;32m--> 611\u001b[1;33m             \u001b[1;32mreturn\u001b[0m \u001b[0m_compare_or_regex_search\u001b[0m\u001b[1;33m(\u001b[0m\u001b[0mvalues\u001b[0m\u001b[1;33m,\u001b[0m \u001b[0ms\u001b[0m\u001b[1;33m,\u001b[0m \u001b[0mregex\u001b[0m\u001b[1;33m)\u001b[0m\u001b[1;33m\u001b[0m\u001b[1;33m\u001b[0m\u001b[0m\n\u001b[0m\u001b[0;32m    612\u001b[0m \u001b[1;33m\u001b[0m\u001b[0m\n\u001b[0;32m    613\u001b[0m         \u001b[0mmasks\u001b[0m \u001b[1;33m=\u001b[0m \u001b[1;33m[\u001b[0m\u001b[0mcomp\u001b[0m\u001b[1;33m(\u001b[0m\u001b[0ms\u001b[0m\u001b[1;33m,\u001b[0m \u001b[0mregex\u001b[0m\u001b[1;33m)\u001b[0m \u001b[1;32mfor\u001b[0m \u001b[0mi\u001b[0m\u001b[1;33m,\u001b[0m \u001b[0ms\u001b[0m \u001b[1;32min\u001b[0m \u001b[0menumerate\u001b[0m\u001b[1;33m(\u001b[0m\u001b[0msrc_list\u001b[0m\u001b[1;33m)\u001b[0m\u001b[1;33m]\u001b[0m\u001b[1;33m\u001b[0m\u001b[1;33m\u001b[0m\u001b[0m\n",
      "\u001b[1;32m~\\anaconda3\\lib\\site-packages\\pandas\\core\\internals\\managers.py\u001b[0m in \u001b[0;36m_compare_or_regex_search\u001b[1;34m(a, b, regex)\u001b[0m\n\u001b[0;32m   1934\u001b[0m \u001b[1;33m\u001b[0m\u001b[0m\n\u001b[0;32m   1935\u001b[0m         raise TypeError(\n\u001b[1;32m-> 1936\u001b[1;33m             \u001b[1;34mf\"Cannot compare types {repr(type_names[0])} and {repr(type_names[1])}\"\u001b[0m\u001b[1;33m\u001b[0m\u001b[1;33m\u001b[0m\u001b[0m\n\u001b[0m\u001b[0;32m   1937\u001b[0m         )\n\u001b[0;32m   1938\u001b[0m     \u001b[1;32mreturn\u001b[0m \u001b[0mresult\u001b[0m\u001b[1;33m\u001b[0m\u001b[1;33m\u001b[0m\u001b[0m\n",
      "\u001b[1;31mTypeError\u001b[0m: Cannot compare types 'ndarray(dtype=int64)' and 'str'"
     ]
    }
   ],
   "source": [
    "df[\"bare_nuclei\"].replace({\"?\": 1}).head()"
   ]
  },
  {
   "cell_type": "code",
   "execution_count": 15,
   "metadata": {},
   "outputs": [
    {
     "name": "stderr",
     "output_type": "stream",
     "text": [
      "C:\\Users\\admin\\anaconda3\\lib\\site-packages\\pandas\\core\\ops\\array_ops.py:253: FutureWarning: elementwise comparison failed; returning scalar instead, but in the future will perform elementwise comparison\n",
      "  res_values = method(rvalues)\n"
     ]
    },
    {
     "data": {
      "text/plain": [
       "array([ 1, 10,  2,  4,  1, 10, 10,  1,  1,  1,  1,  1,  3,  3,  9,  1,  1,\n",
       "        1, 10,  1, 10,  7,  1,  1,  1,  7,  1,  1,  1,  1])"
      ]
     },
     "execution_count": 15,
     "metadata": {},
     "output_type": "execute_result"
    }
   ],
   "source": [
    "# np.where(condition, desired o/p, regular o/p)\n",
    "\n",
    "np.where(df.bare_nuclei == '?', int(df.bare_nuclei.mode()[0]), df.bare_nuclei).astype(int)[:30]"
   ]
  },
  {
   "cell_type": "code",
   "execution_count": null,
   "metadata": {},
   "outputs": [],
   "source": [
    "df['bare_nuclei'].apply(lambda x:x.replace('?','1')).head()"
   ]
  },
  {
   "cell_type": "code",
   "execution_count": null,
   "metadata": {},
   "outputs": [],
   "source": [
    "df.loc[df.bare_nuclei == '?', 'bare_nuclei'].index\n",
    "\n",
    "# df.bare_nuclei.loc[df.bare_nuclei == '?']\n"
   ]
  },
  {
   "cell_type": "code",
   "execution_count": null,
   "metadata": {},
   "outputs": [],
   "source": [
    "df.bare_nuclei.loc[[23, 40, 139, 145, 158, 164, 235, 249, 275, 292, 294, 297, 315, 321,\n",
    "            411, 617]] = int(df.bare_nuclei.mode()[0])"
   ]
  },
  {
   "cell_type": "code",
   "execution_count": 16,
   "metadata": {},
   "outputs": [
    {
     "data": {
      "text/plain": [
       "0      1\n",
       "1     10\n",
       "2      2\n",
       "3      4\n",
       "4      1\n",
       "5     10\n",
       "6     10\n",
       "7      1\n",
       "8      1\n",
       "9      1\n",
       "10     1\n",
       "11     1\n",
       "12     3\n",
       "13     3\n",
       "14     9\n",
       "15     1\n",
       "16     1\n",
       "17     1\n",
       "18    10\n",
       "19     1\n",
       "20    10\n",
       "21     7\n",
       "22     1\n",
       "23     1\n",
       "24     1\n",
       "25     7\n",
       "Name: bare_nuclei, dtype: int64"
      ]
     },
     "execution_count": 16,
     "metadata": {},
     "output_type": "execute_result"
    }
   ],
   "source": [
    "df.bare_nuclei.head(26)"
   ]
  },
  {
   "cell_type": "code",
   "execution_count": null,
   "metadata": {},
   "outputs": [],
   "source": [
    "df.drop(  df.bare_nuclei.loc[df.bare_nuclei == '?'].index    ).head()"
   ]
  },
  {
   "cell_type": "code",
   "execution_count": null,
   "metadata": {},
   "outputs": [],
   "source": [
    "df2 = df[df.bare_nuclei != '?']"
   ]
  },
  {
   "cell_type": "code",
   "execution_count": null,
   "metadata": {},
   "outputs": [],
   "source": [
    "df['bare_nuclei'].unique()"
   ]
  },
  {
   "cell_type": "code",
   "execution_count": null,
   "metadata": {},
   "outputs": [],
   "source": [
    "# df.bare_nuclei = df.bare_nuclei.astype(int) # cOnverted to Integer"
   ]
  },
  {
   "cell_type": "code",
   "execution_count": 5,
   "metadata": {},
   "outputs": [
    {
     "data": {
      "text/plain": [
       "id                        int64\n",
       "clump_thickness           int64\n",
       "uniform_cell_size         int64\n",
       "uniform_cell_shape        int64\n",
       "marginal_adhesion         int64\n",
       "single_epithelial_size    int64\n",
       "bare_nuclei               int64\n",
       "bland_chromatin           int64\n",
       "normal_nucleoli           int64\n",
       "mitoses                   int64\n",
       "class                     int64\n",
       "dtype: object"
      ]
     },
     "execution_count": 5,
     "metadata": {},
     "output_type": "execute_result"
    }
   ],
   "source": [
    "df.dtypes"
   ]
  },
  {
   "cell_type": "code",
   "execution_count": 18,
   "metadata": {},
   "outputs": [
    {
     "data": {
      "text/html": [
       "<div>\n",
       "<style scoped>\n",
       "    .dataframe tbody tr th:only-of-type {\n",
       "        vertical-align: middle;\n",
       "    }\n",
       "\n",
       "    .dataframe tbody tr th {\n",
       "        vertical-align: top;\n",
       "    }\n",
       "\n",
       "    .dataframe thead th {\n",
       "        text-align: right;\n",
       "    }\n",
       "</style>\n",
       "<table border=\"1\" class=\"dataframe\">\n",
       "  <thead>\n",
       "    <tr style=\"text-align: right;\">\n",
       "      <th></th>\n",
       "      <th>id</th>\n",
       "      <th>clump_thickness</th>\n",
       "      <th>uniform_cell_size</th>\n",
       "      <th>uniform_cell_shape</th>\n",
       "      <th>marginal_adhesion</th>\n",
       "      <th>single_epithelial_size</th>\n",
       "      <th>bare_nuclei</th>\n",
       "      <th>bland_chromatin</th>\n",
       "      <th>normal_nucleoli</th>\n",
       "      <th>mitoses</th>\n",
       "      <th>class</th>\n",
       "    </tr>\n",
       "  </thead>\n",
       "  <tbody>\n",
       "    <tr>\n",
       "      <th>id</th>\n",
       "      <td>1.000000</td>\n",
       "      <td>-0.055308</td>\n",
       "      <td>-0.041603</td>\n",
       "      <td>-0.041576</td>\n",
       "      <td>-0.064878</td>\n",
       "      <td>-0.045528</td>\n",
       "      <td>-0.092533</td>\n",
       "      <td>-0.060051</td>\n",
       "      <td>-0.052072</td>\n",
       "      <td>-0.034901</td>\n",
       "      <td>-0.080226</td>\n",
       "    </tr>\n",
       "    <tr>\n",
       "      <th>clump_thickness</th>\n",
       "      <td>-0.055308</td>\n",
       "      <td>1.000000</td>\n",
       "      <td>0.644913</td>\n",
       "      <td>0.654589</td>\n",
       "      <td>0.486356</td>\n",
       "      <td>0.521816</td>\n",
       "      <td>0.590008</td>\n",
       "      <td>0.558428</td>\n",
       "      <td>0.535835</td>\n",
       "      <td>0.350034</td>\n",
       "      <td>0.716001</td>\n",
       "    </tr>\n",
       "    <tr>\n",
       "      <th>uniform_cell_size</th>\n",
       "      <td>-0.041603</td>\n",
       "      <td>0.644913</td>\n",
       "      <td>1.000000</td>\n",
       "      <td>0.906882</td>\n",
       "      <td>0.705582</td>\n",
       "      <td>0.751799</td>\n",
       "      <td>0.686673</td>\n",
       "      <td>0.755721</td>\n",
       "      <td>0.722865</td>\n",
       "      <td>0.458693</td>\n",
       "      <td>0.817904</td>\n",
       "    </tr>\n",
       "    <tr>\n",
       "      <th>uniform_cell_shape</th>\n",
       "      <td>-0.041576</td>\n",
       "      <td>0.654589</td>\n",
       "      <td>0.906882</td>\n",
       "      <td>1.000000</td>\n",
       "      <td>0.683079</td>\n",
       "      <td>0.719668</td>\n",
       "      <td>0.707474</td>\n",
       "      <td>0.735948</td>\n",
       "      <td>0.719446</td>\n",
       "      <td>0.438911</td>\n",
       "      <td>0.818934</td>\n",
       "    </tr>\n",
       "    <tr>\n",
       "      <th>marginal_adhesion</th>\n",
       "      <td>-0.064878</td>\n",
       "      <td>0.486356</td>\n",
       "      <td>0.705582</td>\n",
       "      <td>0.683079</td>\n",
       "      <td>1.000000</td>\n",
       "      <td>0.599599</td>\n",
       "      <td>0.666971</td>\n",
       "      <td>0.666715</td>\n",
       "      <td>0.603352</td>\n",
       "      <td>0.417633</td>\n",
       "      <td>0.696800</td>\n",
       "    </tr>\n",
       "    <tr>\n",
       "      <th>single_epithelial_size</th>\n",
       "      <td>-0.045528</td>\n",
       "      <td>0.521816</td>\n",
       "      <td>0.751799</td>\n",
       "      <td>0.719668</td>\n",
       "      <td>0.599599</td>\n",
       "      <td>1.000000</td>\n",
       "      <td>0.583701</td>\n",
       "      <td>0.616102</td>\n",
       "      <td>0.628881</td>\n",
       "      <td>0.479101</td>\n",
       "      <td>0.682785</td>\n",
       "    </tr>\n",
       "    <tr>\n",
       "      <th>bare_nuclei</th>\n",
       "      <td>-0.092533</td>\n",
       "      <td>0.590008</td>\n",
       "      <td>0.686673</td>\n",
       "      <td>0.707474</td>\n",
       "      <td>0.666971</td>\n",
       "      <td>0.583701</td>\n",
       "      <td>1.000000</td>\n",
       "      <td>0.674215</td>\n",
       "      <td>0.574778</td>\n",
       "      <td>0.342397</td>\n",
       "      <td>0.818968</td>\n",
       "    </tr>\n",
       "    <tr>\n",
       "      <th>bland_chromatin</th>\n",
       "      <td>-0.060051</td>\n",
       "      <td>0.558428</td>\n",
       "      <td>0.755721</td>\n",
       "      <td>0.735948</td>\n",
       "      <td>0.666715</td>\n",
       "      <td>0.616102</td>\n",
       "      <td>0.674215</td>\n",
       "      <td>1.000000</td>\n",
       "      <td>0.665878</td>\n",
       "      <td>0.344169</td>\n",
       "      <td>0.756616</td>\n",
       "    </tr>\n",
       "    <tr>\n",
       "      <th>normal_nucleoli</th>\n",
       "      <td>-0.052072</td>\n",
       "      <td>0.535835</td>\n",
       "      <td>0.722865</td>\n",
       "      <td>0.719446</td>\n",
       "      <td>0.603352</td>\n",
       "      <td>0.628881</td>\n",
       "      <td>0.574778</td>\n",
       "      <td>0.665878</td>\n",
       "      <td>1.000000</td>\n",
       "      <td>0.428336</td>\n",
       "      <td>0.712244</td>\n",
       "    </tr>\n",
       "    <tr>\n",
       "      <th>mitoses</th>\n",
       "      <td>-0.034901</td>\n",
       "      <td>0.350034</td>\n",
       "      <td>0.458693</td>\n",
       "      <td>0.438911</td>\n",
       "      <td>0.417633</td>\n",
       "      <td>0.479101</td>\n",
       "      <td>0.342397</td>\n",
       "      <td>0.344169</td>\n",
       "      <td>0.428336</td>\n",
       "      <td>1.000000</td>\n",
       "      <td>0.423170</td>\n",
       "    </tr>\n",
       "    <tr>\n",
       "      <th>class</th>\n",
       "      <td>-0.080226</td>\n",
       "      <td>0.716001</td>\n",
       "      <td>0.817904</td>\n",
       "      <td>0.818934</td>\n",
       "      <td>0.696800</td>\n",
       "      <td>0.682785</td>\n",
       "      <td>0.818968</td>\n",
       "      <td>0.756616</td>\n",
       "      <td>0.712244</td>\n",
       "      <td>0.423170</td>\n",
       "      <td>1.000000</td>\n",
       "    </tr>\n",
       "  </tbody>\n",
       "</table>\n",
       "</div>"
      ],
      "text/plain": [
       "                              id  clump_thickness  uniform_cell_size  \\\n",
       "id                      1.000000        -0.055308          -0.041603   \n",
       "clump_thickness        -0.055308         1.000000           0.644913   \n",
       "uniform_cell_size      -0.041603         0.644913           1.000000   \n",
       "uniform_cell_shape     -0.041576         0.654589           0.906882   \n",
       "marginal_adhesion      -0.064878         0.486356           0.705582   \n",
       "single_epithelial_size -0.045528         0.521816           0.751799   \n",
       "bare_nuclei            -0.092533         0.590008           0.686673   \n",
       "bland_chromatin        -0.060051         0.558428           0.755721   \n",
       "normal_nucleoli        -0.052072         0.535835           0.722865   \n",
       "mitoses                -0.034901         0.350034           0.458693   \n",
       "class                  -0.080226         0.716001           0.817904   \n",
       "\n",
       "                        uniform_cell_shape  marginal_adhesion  \\\n",
       "id                               -0.041576          -0.064878   \n",
       "clump_thickness                   0.654589           0.486356   \n",
       "uniform_cell_size                 0.906882           0.705582   \n",
       "uniform_cell_shape                1.000000           0.683079   \n",
       "marginal_adhesion                 0.683079           1.000000   \n",
       "single_epithelial_size            0.719668           0.599599   \n",
       "bare_nuclei                       0.707474           0.666971   \n",
       "bland_chromatin                   0.735948           0.666715   \n",
       "normal_nucleoli                   0.719446           0.603352   \n",
       "mitoses                           0.438911           0.417633   \n",
       "class                             0.818934           0.696800   \n",
       "\n",
       "                        single_epithelial_size  bare_nuclei  bland_chromatin  \\\n",
       "id                                   -0.045528    -0.092533        -0.060051   \n",
       "clump_thickness                       0.521816     0.590008         0.558428   \n",
       "uniform_cell_size                     0.751799     0.686673         0.755721   \n",
       "uniform_cell_shape                    0.719668     0.707474         0.735948   \n",
       "marginal_adhesion                     0.599599     0.666971         0.666715   \n",
       "single_epithelial_size                1.000000     0.583701         0.616102   \n",
       "bare_nuclei                           0.583701     1.000000         0.674215   \n",
       "bland_chromatin                       0.616102     0.674215         1.000000   \n",
       "normal_nucleoli                       0.628881     0.574778         0.665878   \n",
       "mitoses                               0.479101     0.342397         0.344169   \n",
       "class                                 0.682785     0.818968         0.756616   \n",
       "\n",
       "                        normal_nucleoli   mitoses     class  \n",
       "id                            -0.052072 -0.034901 -0.080226  \n",
       "clump_thickness                0.535835  0.350034  0.716001  \n",
       "uniform_cell_size              0.722865  0.458693  0.817904  \n",
       "uniform_cell_shape             0.719446  0.438911  0.818934  \n",
       "marginal_adhesion              0.603352  0.417633  0.696800  \n",
       "single_epithelial_size         0.628881  0.479101  0.682785  \n",
       "bare_nuclei                    0.574778  0.342397  0.818968  \n",
       "bland_chromatin                0.665878  0.344169  0.756616  \n",
       "normal_nucleoli                1.000000  0.428336  0.712244  \n",
       "mitoses                        0.428336  1.000000  0.423170  \n",
       "class                          0.712244  0.423170  1.000000  "
      ]
     },
     "execution_count": 18,
     "metadata": {},
     "output_type": "execute_result"
    }
   ],
   "source": [
    "df.corr() # command for finding the coorelation among variables"
   ]
  },
  {
   "cell_type": "code",
   "execution_count": 19,
   "metadata": {},
   "outputs": [],
   "source": [
    "y1 = df['class'].apply(lambda x: 'cancer' if x ==4 else 'non_cancer')"
   ]
  },
  {
   "cell_type": "code",
   "execution_count": 20,
   "metadata": {},
   "outputs": [],
   "source": [
    "X = df.drop(['class','mitoses'], axis = 1) # We have defined the Training Data as we have to predict Class for Cancer, so we removed it \n",
    "y = df['class'] # Y is to Be predicted, Target so it is kept seperatly from the data\n",
    "\n",
    "'''\n",
    "# Split datasets into testing and training set using TRAIN_TEST_SPIT - inbuilt library from sklearn\n",
    "\n",
    "# Test_size = 0.2 means keeping 20% of randomly selected data for testing out model and keeping rest 80% for Training the model\n",
    "\n",
    "# Random_State - random_state parameter is used for initializing the internal random number generator, \n",
    "                 #which will decide the splitting of data into train and test indices in your case\n",
    "\n",
    "# SKLEARN : Is the Parent Library in Python where all the Machine learing algorithms are present\n",
    "\n",
    "'''\n",
    "\n",
    "from sklearn.model_selection import train_test_split\n",
    "\n",
    "\n",
    "X_train, X_test, y_train, y_test = train_test_split(X, y1, \n",
    "                                                    test_size = 0.3, \n",
    "                                                    random_state = 2020)  "
   ]
  },
  {
   "cell_type": "code",
   "execution_count": 21,
   "metadata": {},
   "outputs": [
    {
     "data": {
      "text/plain": [
       "103        cancer\n",
       "322    non_cancer\n",
       "652    non_cancer\n",
       "35     non_cancer\n",
       "491        cancer\n",
       "Name: class, dtype: object"
      ]
     },
     "metadata": {},
     "output_type": "display_data"
    },
    {
     "data": {
      "text/html": [
       "<div>\n",
       "<style scoped>\n",
       "    .dataframe tbody tr th:only-of-type {\n",
       "        vertical-align: middle;\n",
       "    }\n",
       "\n",
       "    .dataframe tbody tr th {\n",
       "        vertical-align: top;\n",
       "    }\n",
       "\n",
       "    .dataframe thead th {\n",
       "        text-align: right;\n",
       "    }\n",
       "</style>\n",
       "<table border=\"1\" class=\"dataframe\">\n",
       "  <thead>\n",
       "    <tr style=\"text-align: right;\">\n",
       "      <th></th>\n",
       "      <th>id</th>\n",
       "      <th>clump_thickness</th>\n",
       "      <th>uniform_cell_size</th>\n",
       "      <th>uniform_cell_shape</th>\n",
       "      <th>marginal_adhesion</th>\n",
       "      <th>single_epithelial_size</th>\n",
       "      <th>bare_nuclei</th>\n",
       "      <th>bland_chromatin</th>\n",
       "      <th>normal_nucleoli</th>\n",
       "    </tr>\n",
       "  </thead>\n",
       "  <tbody>\n",
       "    <tr>\n",
       "      <th>103</th>\n",
       "      <td>1168359</td>\n",
       "      <td>8</td>\n",
       "      <td>2</td>\n",
       "      <td>3</td>\n",
       "      <td>1</td>\n",
       "      <td>6</td>\n",
       "      <td>3</td>\n",
       "      <td>7</td>\n",
       "      <td>1</td>\n",
       "    </tr>\n",
       "    <tr>\n",
       "      <th>322</th>\n",
       "      <td>733639</td>\n",
       "      <td>3</td>\n",
       "      <td>1</td>\n",
       "      <td>1</td>\n",
       "      <td>1</td>\n",
       "      <td>2</td>\n",
       "      <td>1</td>\n",
       "      <td>3</td>\n",
       "      <td>1</td>\n",
       "    </tr>\n",
       "    <tr>\n",
       "      <th>652</th>\n",
       "      <td>1324572</td>\n",
       "      <td>5</td>\n",
       "      <td>1</td>\n",
       "      <td>1</td>\n",
       "      <td>1</td>\n",
       "      <td>2</td>\n",
       "      <td>1</td>\n",
       "      <td>2</td>\n",
       "      <td>2</td>\n",
       "    </tr>\n",
       "    <tr>\n",
       "      <th>35</th>\n",
       "      <td>1079304</td>\n",
       "      <td>2</td>\n",
       "      <td>1</td>\n",
       "      <td>1</td>\n",
       "      <td>1</td>\n",
       "      <td>2</td>\n",
       "      <td>1</td>\n",
       "      <td>2</td>\n",
       "      <td>1</td>\n",
       "    </tr>\n",
       "    <tr>\n",
       "      <th>491</th>\n",
       "      <td>1119189</td>\n",
       "      <td>5</td>\n",
       "      <td>8</td>\n",
       "      <td>9</td>\n",
       "      <td>4</td>\n",
       "      <td>3</td>\n",
       "      <td>10</td>\n",
       "      <td>7</td>\n",
       "      <td>1</td>\n",
       "    </tr>\n",
       "  </tbody>\n",
       "</table>\n",
       "</div>"
      ],
      "text/plain": [
       "          id  clump_thickness  uniform_cell_size  uniform_cell_shape  \\\n",
       "103  1168359                8                  2                   3   \n",
       "322   733639                3                  1                   1   \n",
       "652  1324572                5                  1                   1   \n",
       "35   1079304                2                  1                   1   \n",
       "491  1119189                5                  8                   9   \n",
       "\n",
       "     marginal_adhesion  single_epithelial_size  bare_nuclei  bland_chromatin  \\\n",
       "103                  1                       6            3                7   \n",
       "322                  1                       2            1                3   \n",
       "652                  1                       2            1                2   \n",
       "35                   1                       2            1                2   \n",
       "491                  4                       3           10                7   \n",
       "\n",
       "     normal_nucleoli  \n",
       "103                1  \n",
       "322                1  \n",
       "652                2  \n",
       "35                 1  \n",
       "491                1  "
      ]
     },
     "metadata": {},
     "output_type": "display_data"
    },
    {
     "data": {
      "text/plain": [
       "' TRAINING DATA '"
      ]
     },
     "metadata": {},
     "output_type": "display_data"
    },
    {
     "data": {
      "text/plain": [
       "413    non_cancer\n",
       "22     non_cancer\n",
       "111        cancer\n",
       "208    non_cancer\n",
       "121    non_cancer\n",
       "Name: class, dtype: object"
      ]
     },
     "metadata": {},
     "output_type": "display_data"
    },
    {
     "data": {
      "text/html": [
       "<div>\n",
       "<style scoped>\n",
       "    .dataframe tbody tr th:only-of-type {\n",
       "        vertical-align: middle;\n",
       "    }\n",
       "\n",
       "    .dataframe tbody tr th {\n",
       "        vertical-align: top;\n",
       "    }\n",
       "\n",
       "    .dataframe thead th {\n",
       "        text-align: right;\n",
       "    }\n",
       "</style>\n",
       "<table border=\"1\" class=\"dataframe\">\n",
       "  <thead>\n",
       "    <tr style=\"text-align: right;\">\n",
       "      <th></th>\n",
       "      <th>id</th>\n",
       "      <th>clump_thickness</th>\n",
       "      <th>uniform_cell_size</th>\n",
       "      <th>uniform_cell_shape</th>\n",
       "      <th>marginal_adhesion</th>\n",
       "      <th>single_epithelial_size</th>\n",
       "      <th>bare_nuclei</th>\n",
       "      <th>bland_chromatin</th>\n",
       "      <th>normal_nucleoli</th>\n",
       "    </tr>\n",
       "  </thead>\n",
       "  <tbody>\n",
       "    <tr>\n",
       "      <th>413</th>\n",
       "      <td>1238915</td>\n",
       "      <td>5</td>\n",
       "      <td>1</td>\n",
       "      <td>2</td>\n",
       "      <td>1</td>\n",
       "      <td>2</td>\n",
       "      <td>1</td>\n",
       "      <td>3</td>\n",
       "      <td>1</td>\n",
       "    </tr>\n",
       "    <tr>\n",
       "      <th>22</th>\n",
       "      <td>1056784</td>\n",
       "      <td>3</td>\n",
       "      <td>1</td>\n",
       "      <td>1</td>\n",
       "      <td>1</td>\n",
       "      <td>2</td>\n",
       "      <td>1</td>\n",
       "      <td>2</td>\n",
       "      <td>1</td>\n",
       "    </tr>\n",
       "    <tr>\n",
       "      <th>111</th>\n",
       "      <td>1171845</td>\n",
       "      <td>8</td>\n",
       "      <td>6</td>\n",
       "      <td>4</td>\n",
       "      <td>3</td>\n",
       "      <td>5</td>\n",
       "      <td>9</td>\n",
       "      <td>3</td>\n",
       "      <td>1</td>\n",
       "    </tr>\n",
       "    <tr>\n",
       "      <th>208</th>\n",
       "      <td>1218860</td>\n",
       "      <td>1</td>\n",
       "      <td>1</td>\n",
       "      <td>1</td>\n",
       "      <td>1</td>\n",
       "      <td>1</td>\n",
       "      <td>1</td>\n",
       "      <td>3</td>\n",
       "      <td>1</td>\n",
       "    </tr>\n",
       "    <tr>\n",
       "      <th>121</th>\n",
       "      <td>1174057</td>\n",
       "      <td>4</td>\n",
       "      <td>2</td>\n",
       "      <td>1</td>\n",
       "      <td>1</td>\n",
       "      <td>2</td>\n",
       "      <td>2</td>\n",
       "      <td>3</td>\n",
       "      <td>1</td>\n",
       "    </tr>\n",
       "  </tbody>\n",
       "</table>\n",
       "</div>"
      ],
      "text/plain": [
       "          id  clump_thickness  uniform_cell_size  uniform_cell_shape  \\\n",
       "413  1238915                5                  1                   2   \n",
       "22   1056784                3                  1                   1   \n",
       "111  1171845                8                  6                   4   \n",
       "208  1218860                1                  1                   1   \n",
       "121  1174057                4                  2                   1   \n",
       "\n",
       "     marginal_adhesion  single_epithelial_size  bare_nuclei  bland_chromatin  \\\n",
       "413                  1                       2            1                3   \n",
       "22                   1                       2            1                2   \n",
       "111                  3                       5            9                3   \n",
       "208                  1                       1            1                3   \n",
       "121                  1                       2            2                3   \n",
       "\n",
       "     normal_nucleoli  \n",
       "413                1  \n",
       "22                 1  \n",
       "111                1  \n",
       "208                1  \n",
       "121                1  "
      ]
     },
     "metadata": {},
     "output_type": "display_data"
    }
   ],
   "source": [
    "display(y_test.head(), X_test.head(),' TRAINING DATA ', y_train.head(), X_train.head())"
   ]
  },
  {
   "cell_type": "code",
   "execution_count": null,
   "metadata": {},
   "outputs": [],
   "source": [
    "print('X_train',len(X_train))\n",
    "print('X_test', len(X_test))\n",
    "print('y_train',len(y_train))\n",
    "print('y_test', len(y_test))"
   ]
  },
  {
   "cell_type": "code",
   "execution_count": 22,
   "metadata": {},
   "outputs": [
    {
     "data": {
      "text/plain": [
       "Index(['id', 'clump_thickness', 'uniform_cell_size', 'uniform_cell_shape',\n",
       "       'marginal_adhesion', 'single_epithelial_size', 'bare_nuclei',\n",
       "       'bland_chromatin', 'normal_nucleoli'],\n",
       "      dtype='object')"
      ]
     },
     "execution_count": 22,
     "metadata": {},
     "output_type": "execute_result"
    }
   ],
   "source": [
    "X_test.columns"
   ]
  },
  {
   "cell_type": "code",
   "execution_count": 23,
   "metadata": {},
   "outputs": [
    {
     "data": {
      "text/plain": [
       "Index(['id', 'clump_thickness', 'uniform_cell_size', 'uniform_cell_shape',\n",
       "       'marginal_adhesion', 'single_epithelial_size', 'bare_nuclei',\n",
       "       'bland_chromatin', 'normal_nucleoli'],\n",
       "      dtype='object')"
      ]
     },
     "execution_count": 23,
     "metadata": {},
     "output_type": "execute_result"
    }
   ],
   "source": [
    "X_train.columns"
   ]
  },
  {
   "cell_type": "code",
   "execution_count": 25,
   "metadata": {},
   "outputs": [
    {
     "name": "stdout",
     "output_type": "stream",
     "text": [
      "['braycurtis', 'canberra', 'chebyshev', 'cityblock', 'correlation', 'cosine', 'cosine', 'dice', 'euclidean', 'hamming', 'haversine', 'jaccard', 'kulsinski', 'l1', 'l2', 'mahalanobis', 'manhattan', 'matching', 'minkowski', 'nan_euclidean', 'precomputed', 'rogerstanimoto', 'russellrao', 'seuclidean', 'sokalmichener', 'sokalsneath', 'sqeuclidean', 'wminkowski', 'yule']\n"
     ]
    }
   ],
   "source": [
    "import sklearn\n",
    "from sklearn.neighbors import KNeighborsClassifier, KNeighborsRegressor\n",
    "\n",
    "# To all available distance metrices for finding the distance\n",
    "print(sorted(sklearn.neighbors.VALID_METRICS['brute']))\n",
    "\n",
    "\n",
    "\n",
    "clf = KNeighborsClassifier(n_neighbors= 5, metric = 'euclidean')\n",
    "\n"
   ]
  },
  {
   "cell_type": "code",
   "execution_count": 26,
   "metadata": {},
   "outputs": [
    {
     "data": {
      "text/plain": [
       "KNeighborsClassifier(algorithm='auto', leaf_size=30, metric='euclidean',\n",
       "                     metric_params=None, n_jobs=None, n_neighbors=5, p=2,\n",
       "                     weights='uniform')"
      ]
     },
     "execution_count": 26,
     "metadata": {},
     "output_type": "execute_result"
    }
   ],
   "source": [
    "# For training the model on training data\n",
    "clf.fit(X_train.drop('id',1), y_train)\n"
   ]
  },
  {
   "cell_type": "code",
   "execution_count": 27,
   "metadata": {},
   "outputs": [],
   "source": [
    "y_pred = clf.predict( X_test.drop('id',1)  )"
   ]
  },
  {
   "cell_type": "code",
   "execution_count": null,
   "metadata": {},
   "outputs": [],
   "source": [
    "X_test.id.head(5)"
   ]
  },
  {
   "cell_type": "code",
   "execution_count": 28,
   "metadata": {},
   "outputs": [
    {
     "data": {
      "text/plain": [
       "array(['cancer', 'non_cancer', 'non_cancer', 'non_cancer', 'cancer',\n",
       "       'non_cancer', 'non_cancer'], dtype=object)"
      ]
     },
     "execution_count": 28,
     "metadata": {},
     "output_type": "execute_result"
    }
   ],
   "source": [
    "y_pred[:7]"
   ]
  },
  {
   "cell_type": "code",
   "execution_count": 30,
   "metadata": {},
   "outputs": [
    {
     "data": {
      "text/html": [
       "<div>\n",
       "<style scoped>\n",
       "    .dataframe tbody tr th:only-of-type {\n",
       "        vertical-align: middle;\n",
       "    }\n",
       "\n",
       "    .dataframe tbody tr th {\n",
       "        vertical-align: top;\n",
       "    }\n",
       "\n",
       "    .dataframe thead th {\n",
       "        text-align: right;\n",
       "    }\n",
       "</style>\n",
       "<table border=\"1\" class=\"dataframe\">\n",
       "  <thead>\n",
       "    <tr style=\"text-align: right;\">\n",
       "      <th></th>\n",
       "      <th>Pred</th>\n",
       "    </tr>\n",
       "  </thead>\n",
       "  <tbody>\n",
       "    <tr>\n",
       "      <th>103</th>\n",
       "      <td>cancer</td>\n",
       "    </tr>\n",
       "    <tr>\n",
       "      <th>322</th>\n",
       "      <td>non_cancer</td>\n",
       "    </tr>\n",
       "    <tr>\n",
       "      <th>652</th>\n",
       "      <td>non_cancer</td>\n",
       "    </tr>\n",
       "    <tr>\n",
       "      <th>35</th>\n",
       "      <td>non_cancer</td>\n",
       "    </tr>\n",
       "    <tr>\n",
       "      <th>491</th>\n",
       "      <td>cancer</td>\n",
       "    </tr>\n",
       "  </tbody>\n",
       "</table>\n",
       "</div>"
      ],
      "text/plain": [
       "           Pred\n",
       "103      cancer\n",
       "322  non_cancer\n",
       "652  non_cancer\n",
       "35   non_cancer\n",
       "491      cancer"
      ]
     },
     "execution_count": 30,
     "metadata": {},
     "output_type": "execute_result"
    }
   ],
   "source": [
    "pr = pd.DataFrame(y_pred[:5], columns=['Pred'], index = X_test.head(5).index)\n",
    "pr"
   ]
  },
  {
   "cell_type": "code",
   "execution_count": 31,
   "metadata": {},
   "outputs": [
    {
     "data": {
      "text/html": [
       "<div>\n",
       "<style scoped>\n",
       "    .dataframe tbody tr th:only-of-type {\n",
       "        vertical-align: middle;\n",
       "    }\n",
       "\n",
       "    .dataframe tbody tr th {\n",
       "        vertical-align: top;\n",
       "    }\n",
       "\n",
       "    .dataframe thead th {\n",
       "        text-align: right;\n",
       "    }\n",
       "</style>\n",
       "<table border=\"1\" class=\"dataframe\">\n",
       "  <thead>\n",
       "    <tr style=\"text-align: right;\">\n",
       "      <th></th>\n",
       "      <th>id</th>\n",
       "      <th>Pred</th>\n",
       "      <th>class</th>\n",
       "    </tr>\n",
       "  </thead>\n",
       "  <tbody>\n",
       "    <tr>\n",
       "      <th>103</th>\n",
       "      <td>1168359</td>\n",
       "      <td>cancer</td>\n",
       "      <td>cancer</td>\n",
       "    </tr>\n",
       "    <tr>\n",
       "      <th>322</th>\n",
       "      <td>733639</td>\n",
       "      <td>non_cancer</td>\n",
       "      <td>non_cancer</td>\n",
       "    </tr>\n",
       "    <tr>\n",
       "      <th>652</th>\n",
       "      <td>1324572</td>\n",
       "      <td>non_cancer</td>\n",
       "      <td>non_cancer</td>\n",
       "    </tr>\n",
       "    <tr>\n",
       "      <th>35</th>\n",
       "      <td>1079304</td>\n",
       "      <td>non_cancer</td>\n",
       "      <td>non_cancer</td>\n",
       "    </tr>\n",
       "    <tr>\n",
       "      <th>491</th>\n",
       "      <td>1119189</td>\n",
       "      <td>cancer</td>\n",
       "      <td>cancer</td>\n",
       "    </tr>\n",
       "  </tbody>\n",
       "</table>\n",
       "</div>"
      ],
      "text/plain": [
       "          id        Pred       class\n",
       "103  1168359      cancer      cancer\n",
       "322   733639  non_cancer  non_cancer\n",
       "652  1324572  non_cancer  non_cancer\n",
       "35   1079304  non_cancer  non_cancer\n",
       "491  1119189      cancer      cancer"
      ]
     },
     "execution_count": 31,
     "metadata": {},
     "output_type": "execute_result"
    }
   ],
   "source": [
    "pd.concat([X_test.id.head(5), pr['Pred'], y_test.head(5)],1)"
   ]
  },
  {
   "cell_type": "code",
   "execution_count": null,
   "metadata": {},
   "outputs": [],
   "source": [
    "y_test.head(6)"
   ]
  },
  {
   "cell_type": "code",
   "execution_count": 34,
   "metadata": {},
   "outputs": [],
   "source": [
    "y_train_pred = clf.predict(X_train.drop('id', 1))\n"
   ]
  },
  {
   "cell_type": "code",
   "execution_count": 35,
   "metadata": {},
   "outputs": [
    {
     "data": {
      "text/plain": [
       "489"
      ]
     },
     "execution_count": 35,
     "metadata": {},
     "output_type": "execute_result"
    }
   ],
   "source": [
    "len(y_train_pred)\n"
   ]
  },
  {
   "cell_type": "code",
   "execution_count": 38,
   "metadata": {},
   "outputs": [
    {
     "data": {
      "text/html": [
       "<div>\n",
       "<style scoped>\n",
       "    .dataframe tbody tr th:only-of-type {\n",
       "        vertical-align: middle;\n",
       "    }\n",
       "\n",
       "    .dataframe tbody tr th {\n",
       "        vertical-align: top;\n",
       "    }\n",
       "\n",
       "    .dataframe thead th {\n",
       "        text-align: right;\n",
       "    }\n",
       "</style>\n",
       "<table border=\"1\" class=\"dataframe\">\n",
       "  <thead>\n",
       "    <tr style=\"text-align: right;\">\n",
       "      <th></th>\n",
       "      <th>id</th>\n",
       "      <th>class</th>\n",
       "      <th>0</th>\n",
       "    </tr>\n",
       "  </thead>\n",
       "  <tbody>\n",
       "    <tr>\n",
       "      <th>413</th>\n",
       "      <td>1238915</td>\n",
       "      <td>non_cancer</td>\n",
       "      <td>non_cancer</td>\n",
       "    </tr>\n",
       "    <tr>\n",
       "      <th>22</th>\n",
       "      <td>1056784</td>\n",
       "      <td>non_cancer</td>\n",
       "      <td>non_cancer</td>\n",
       "    </tr>\n",
       "    <tr>\n",
       "      <th>111</th>\n",
       "      <td>1171845</td>\n",
       "      <td>cancer</td>\n",
       "      <td>cancer</td>\n",
       "    </tr>\n",
       "    <tr>\n",
       "      <th>208</th>\n",
       "      <td>1218860</td>\n",
       "      <td>non_cancer</td>\n",
       "      <td>non_cancer</td>\n",
       "    </tr>\n",
       "    <tr>\n",
       "      <th>121</th>\n",
       "      <td>1174057</td>\n",
       "      <td>non_cancer</td>\n",
       "      <td>non_cancer</td>\n",
       "    </tr>\n",
       "    <tr>\n",
       "      <th>...</th>\n",
       "      <td>...</td>\n",
       "      <td>...</td>\n",
       "      <td>...</td>\n",
       "    </tr>\n",
       "    <tr>\n",
       "      <th>637</th>\n",
       "      <td>1275807</td>\n",
       "      <td>non_cancer</td>\n",
       "      <td>non_cancer</td>\n",
       "    </tr>\n",
       "    <tr>\n",
       "      <th>91</th>\n",
       "      <td>1156948</td>\n",
       "      <td>non_cancer</td>\n",
       "      <td>non_cancer</td>\n",
       "    </tr>\n",
       "    <tr>\n",
       "      <th>630</th>\n",
       "      <td>1225382</td>\n",
       "      <td>non_cancer</td>\n",
       "      <td>non_cancer</td>\n",
       "    </tr>\n",
       "    <tr>\n",
       "      <th>323</th>\n",
       "      <td>733823</td>\n",
       "      <td>cancer</td>\n",
       "      <td>cancer</td>\n",
       "    </tr>\n",
       "    <tr>\n",
       "      <th>392</th>\n",
       "      <td>1156017</td>\n",
       "      <td>non_cancer</td>\n",
       "      <td>non_cancer</td>\n",
       "    </tr>\n",
       "  </tbody>\n",
       "</table>\n",
       "<p>489 rows × 3 columns</p>\n",
       "</div>"
      ],
      "text/plain": [
       "          id       class           0\n",
       "413  1238915  non_cancer  non_cancer\n",
       "22   1056784  non_cancer  non_cancer\n",
       "111  1171845      cancer      cancer\n",
       "208  1218860  non_cancer  non_cancer\n",
       "121  1174057  non_cancer  non_cancer\n",
       "..       ...         ...         ...\n",
       "637  1275807  non_cancer  non_cancer\n",
       "91   1156948  non_cancer  non_cancer\n",
       "630  1225382  non_cancer  non_cancer\n",
       "323   733823      cancer      cancer\n",
       "392  1156017  non_cancer  non_cancer\n",
       "\n",
       "[489 rows x 3 columns]"
      ]
     },
     "execution_count": 38,
     "metadata": {},
     "output_type": "execute_result"
    }
   ],
   "source": [
    "# trial method to check training done properly or not\n",
    "pd.concat([X_train.id, y_train, pd.Series(y_train_pred, index = X_train.index)],1)\n",
    "# pd.concat( [X_test.id, y_test,pd.Series(y_pred, index = X_test.index) ],1)\n"
   ]
  },
  {
   "cell_type": "code",
   "execution_count": 55,
   "metadata": {},
   "outputs": [
    {
     "data": {
      "text/plain": [
       "clump_thickness           1\n",
       "uniform_cell_size         1\n",
       "uniform_cell_shape        1\n",
       "marginal_adhesion         1\n",
       "single_epithelial_size    2\n",
       "bare_nuclei               1\n",
       "bland_chromatin           1\n",
       "normal_nucleoli           1\n",
       "Name: 678, dtype: int64"
      ]
     },
     "execution_count": 55,
     "metadata": {},
     "output_type": "execute_result"
    }
   ],
   "source": [
    "# prediction for single sample\n",
    "singlee = X_test.drop('id', 1).iloc[15]\n",
    "singlee"
   ]
  },
  {
   "cell_type": "code",
   "execution_count": 59,
   "metadata": {},
   "outputs": [
    {
     "data": {
      "text/plain": [
       "array(['non_cancer'], dtype=object)"
      ]
     },
     "execution_count": 59,
     "metadata": {},
     "output_type": "execute_result"
    }
   ],
   "source": [
    "sing = clf.predict([X_test.drop('id', 1).iloc[15]])\n",
    "sing\n"
   ]
  },
  {
   "cell_type": "code",
   "execution_count": 61,
   "metadata": {},
   "outputs": [
    {
     "data": {
      "text/plain": [
       "1368273"
      ]
     },
     "execution_count": 61,
     "metadata": {},
     "output_type": "execute_result"
    }
   ],
   "source": [
    "X_test.iloc[15].id"
   ]
  },
  {
   "cell_type": "code",
   "execution_count": 68,
   "metadata": {},
   "outputs": [
    {
     "data": {
      "text/plain": [
       "'non_cancer'"
      ]
     },
     "execution_count": 68,
     "metadata": {},
     "output_type": "execute_result"
    }
   ],
   "source": [
    "y_test.iloc[15]"
   ]
  },
  {
   "cell_type": "code",
   "execution_count": 84,
   "metadata": {},
   "outputs": [
    {
     "data": {
      "text/html": [
       "<div>\n",
       "<style scoped>\n",
       "    .dataframe tbody tr th:only-of-type {\n",
       "        vertical-align: middle;\n",
       "    }\n",
       "\n",
       "    .dataframe tbody tr th {\n",
       "        vertical-align: top;\n",
       "    }\n",
       "\n",
       "    .dataframe thead th {\n",
       "        text-align: right;\n",
       "    }\n",
       "</style>\n",
       "<table border=\"1\" class=\"dataframe\">\n",
       "  <thead>\n",
       "    <tr style=\"text-align: right;\">\n",
       "      <th></th>\n",
       "      <th>0</th>\n",
       "      <th>1</th>\n",
       "      <th>2</th>\n",
       "    </tr>\n",
       "  </thead>\n",
       "  <tbody>\n",
       "    <tr>\n",
       "      <th>0</th>\n",
       "      <td>1368273</td>\n",
       "      <td>non_cancer</td>\n",
       "      <td>non_cancer</td>\n",
       "    </tr>\n",
       "  </tbody>\n",
       "</table>\n",
       "</div>"
      ],
      "text/plain": [
       "         0           1           2\n",
       "0  1368273  non_cancer  non_cancer"
      ]
     },
     "execution_count": 84,
     "metadata": {},
     "output_type": "execute_result"
    }
   ],
   "source": [
    "pd.concat([pd.Series(X_test.iloc[15].id), pd.Series( y_test.iloc[15]) ,pd.Series(sing) ],1)"
   ]
  },
  {
   "cell_type": "markdown",
   "metadata": {},
   "source": [
    "# Predicting Probability"
   ]
  },
  {
   "cell_type": "code",
   "execution_count": null,
   "metadata": {},
   "outputs": [],
   "source": [
    "y_test.head()"
   ]
  },
  {
   "cell_type": "code",
   "execution_count": 39,
   "metadata": {},
   "outputs": [
    {
     "data": {
      "text/plain": [
       "array(['cancer', 'non_cancer'], dtype=object)"
      ]
     },
     "execution_count": 39,
     "metadata": {},
     "output_type": "execute_result"
    }
   ],
   "source": [
    "# to check which class the algorithm used\n",
    "clf.classes_"
   ]
  },
  {
   "cell_type": "code",
   "execution_count": 43,
   "metadata": {},
   "outputs": [],
   "source": [
    "prob = clf.predict_proba(X_test.drop('id', 1))\n",
    "# prob"
   ]
  },
  {
   "cell_type": "code",
   "execution_count": 86,
   "metadata": {},
   "outputs": [
    {
     "data": {
      "text/html": [
       "<div>\n",
       "<style scoped>\n",
       "    .dataframe tbody tr th:only-of-type {\n",
       "        vertical-align: middle;\n",
       "    }\n",
       "\n",
       "    .dataframe tbody tr th {\n",
       "        vertical-align: top;\n",
       "    }\n",
       "\n",
       "    .dataframe thead th {\n",
       "        text-align: right;\n",
       "    }\n",
       "</style>\n",
       "<table border=\"1\" class=\"dataframe\">\n",
       "  <thead>\n",
       "    <tr style=\"text-align: right;\">\n",
       "      <th></th>\n",
       "      <th>cancer</th>\n",
       "      <th>non_cancer</th>\n",
       "    </tr>\n",
       "  </thead>\n",
       "  <tbody>\n",
       "    <tr>\n",
       "      <th>103</th>\n",
       "      <td>1.0</td>\n",
       "      <td>0.0</td>\n",
       "    </tr>\n",
       "    <tr>\n",
       "      <th>322</th>\n",
       "      <td>0.0</td>\n",
       "      <td>1.0</td>\n",
       "    </tr>\n",
       "    <tr>\n",
       "      <th>652</th>\n",
       "      <td>0.0</td>\n",
       "      <td>1.0</td>\n",
       "    </tr>\n",
       "    <tr>\n",
       "      <th>35</th>\n",
       "      <td>0.0</td>\n",
       "      <td>1.0</td>\n",
       "    </tr>\n",
       "    <tr>\n",
       "      <th>491</th>\n",
       "      <td>0.8</td>\n",
       "      <td>0.2</td>\n",
       "    </tr>\n",
       "  </tbody>\n",
       "</table>\n",
       "</div>"
      ],
      "text/plain": [
       "     cancer  non_cancer\n",
       "103     1.0         0.0\n",
       "322     0.0         1.0\n",
       "652     0.0         1.0\n",
       "35      0.0         1.0\n",
       "491     0.8         0.2"
      ]
     },
     "execution_count": 86,
     "metadata": {},
     "output_type": "execute_result"
    }
   ],
   "source": [
    "df1 = pd.DataFrame(prob, columns=clf.classes_, index=X_test.index)\n",
    "df1.head()"
   ]
  },
  {
   "cell_type": "code",
   "execution_count": 88,
   "metadata": {},
   "outputs": [
    {
     "data": {
      "text/html": [
       "<div>\n",
       "<style scoped>\n",
       "    .dataframe tbody tr th:only-of-type {\n",
       "        vertical-align: middle;\n",
       "    }\n",
       "\n",
       "    .dataframe tbody tr th {\n",
       "        vertical-align: top;\n",
       "    }\n",
       "\n",
       "    .dataframe thead th {\n",
       "        text-align: right;\n",
       "    }\n",
       "</style>\n",
       "<table border=\"1\" class=\"dataframe\">\n",
       "  <thead>\n",
       "    <tr style=\"text-align: right;\">\n",
       "      <th></th>\n",
       "      <th>id</th>\n",
       "      <th>clump_thickness</th>\n",
       "      <th>uniform_cell_size</th>\n",
       "      <th>uniform_cell_shape</th>\n",
       "      <th>marginal_adhesion</th>\n",
       "      <th>single_epithelial_size</th>\n",
       "      <th>bare_nuclei</th>\n",
       "      <th>bland_chromatin</th>\n",
       "      <th>normal_nucleoli</th>\n",
       "      <th>y_test</th>\n",
       "      <th>y_pred</th>\n",
       "      <th>Proba_2</th>\n",
       "      <th>Proba_4</th>\n",
       "    </tr>\n",
       "  </thead>\n",
       "  <tbody>\n",
       "    <tr>\n",
       "      <th>356</th>\n",
       "      <td>859164</td>\n",
       "      <td>5</td>\n",
       "      <td>3</td>\n",
       "      <td>3</td>\n",
       "      <td>1</td>\n",
       "      <td>3</td>\n",
       "      <td>3</td>\n",
       "      <td>3</td>\n",
       "      <td>3</td>\n",
       "      <td>cancer</td>\n",
       "      <td>non_cancer</td>\n",
       "      <td>0.4</td>\n",
       "      <td>0.6</td>\n",
       "    </tr>\n",
       "    <tr>\n",
       "      <th>489</th>\n",
       "      <td>1084139</td>\n",
       "      <td>6</td>\n",
       "      <td>3</td>\n",
       "      <td>2</td>\n",
       "      <td>1</td>\n",
       "      <td>3</td>\n",
       "      <td>4</td>\n",
       "      <td>4</td>\n",
       "      <td>1</td>\n",
       "      <td>cancer</td>\n",
       "      <td>non_cancer</td>\n",
       "      <td>0.2</td>\n",
       "      <td>0.8</td>\n",
       "    </tr>\n",
       "    <tr>\n",
       "      <th>691</th>\n",
       "      <td>695091</td>\n",
       "      <td>5</td>\n",
       "      <td>10</td>\n",
       "      <td>10</td>\n",
       "      <td>5</td>\n",
       "      <td>4</td>\n",
       "      <td>5</td>\n",
       "      <td>4</td>\n",
       "      <td>4</td>\n",
       "      <td>cancer</td>\n",
       "      <td>non_cancer</td>\n",
       "      <td>0.4</td>\n",
       "      <td>0.6</td>\n",
       "    </tr>\n",
       "    <tr>\n",
       "      <th>1</th>\n",
       "      <td>1002945</td>\n",
       "      <td>5</td>\n",
       "      <td>4</td>\n",
       "      <td>4</td>\n",
       "      <td>5</td>\n",
       "      <td>7</td>\n",
       "      <td>10</td>\n",
       "      <td>3</td>\n",
       "      <td>2</td>\n",
       "      <td>non_cancer</td>\n",
       "      <td>cancer</td>\n",
       "      <td>1.0</td>\n",
       "      <td>0.0</td>\n",
       "    </tr>\n",
       "    <tr>\n",
       "      <th>348</th>\n",
       "      <td>832226</td>\n",
       "      <td>3</td>\n",
       "      <td>4</td>\n",
       "      <td>4</td>\n",
       "      <td>10</td>\n",
       "      <td>5</td>\n",
       "      <td>1</td>\n",
       "      <td>3</td>\n",
       "      <td>3</td>\n",
       "      <td>cancer</td>\n",
       "      <td>non_cancer</td>\n",
       "      <td>0.2</td>\n",
       "      <td>0.8</td>\n",
       "    </tr>\n",
       "    <tr>\n",
       "      <th>296</th>\n",
       "      <td>616240</td>\n",
       "      <td>5</td>\n",
       "      <td>3</td>\n",
       "      <td>4</td>\n",
       "      <td>3</td>\n",
       "      <td>4</td>\n",
       "      <td>5</td>\n",
       "      <td>4</td>\n",
       "      <td>7</td>\n",
       "      <td>non_cancer</td>\n",
       "      <td>cancer</td>\n",
       "      <td>1.0</td>\n",
       "      <td>0.0</td>\n",
       "    </tr>\n",
       "  </tbody>\n",
       "</table>\n",
       "</div>"
      ],
      "text/plain": [
       "          id  clump_thickness  uniform_cell_size  uniform_cell_shape  \\\n",
       "356   859164                5                  3                   3   \n",
       "489  1084139                6                  3                   2   \n",
       "691   695091                5                 10                  10   \n",
       "1    1002945                5                  4                   4   \n",
       "348   832226                3                  4                   4   \n",
       "296   616240                5                  3                   4   \n",
       "\n",
       "     marginal_adhesion  single_epithelial_size  bare_nuclei  bland_chromatin  \\\n",
       "356                  1                       3            3                3   \n",
       "489                  1                       3            4                4   \n",
       "691                  5                       4            5                4   \n",
       "1                    5                       7           10                3   \n",
       "348                 10                       5            1                3   \n",
       "296                  3                       4            5                4   \n",
       "\n",
       "     normal_nucleoli      y_test      y_pred  Proba_2  Proba_4  \n",
       "356                3      cancer  non_cancer      0.4      0.6  \n",
       "489                1      cancer  non_cancer      0.2      0.8  \n",
       "691                4      cancer  non_cancer      0.4      0.6  \n",
       "1                  2  non_cancer      cancer      1.0      0.0  \n",
       "348                3      cancer  non_cancer      0.2      0.8  \n",
       "296                7  non_cancer      cancer      1.0      0.0  "
      ]
     },
     "execution_count": 88,
     "metadata": {},
     "output_type": "execute_result"
    }
   ],
   "source": [
    "df_res = pd.DataFrame(X_test).copy()\n",
    "\n",
    "df_res['y_test'], df_res['y_pred']   = y_test, y_pred\n",
    "\n",
    "df_res['Proba_2'], df_res['Proba_4'] = df1['cancer'], df1['non_cancer']\n",
    "\n",
    "df_res[ df_res['y_test'] != df_res['y_pred'] ]"
   ]
  },
  {
   "cell_type": "code",
   "execution_count": 92,
   "metadata": {},
   "outputs": [
    {
     "data": {
      "text/plain": [
       "(6, 13)"
      ]
     },
     "execution_count": 92,
     "metadata": {},
     "output_type": "execute_result"
    }
   ],
   "source": [
    "# shape of failure\n",
    "df_res.loc[df_res['y_test'] != df_res['y_pred']].shape"
   ]
  },
  {
   "cell_type": "markdown",
   "metadata": {},
   "source": [
    "# Testing Accuracy"
   ]
  },
  {
   "cell_type": "code",
   "execution_count": 93,
   "metadata": {},
   "outputs": [],
   "source": [
    "from sklearn.metrics import accuracy_score, classification_report,confusion_matrix"
   ]
  },
  {
   "cell_type": "code",
   "execution_count": 94,
   "metadata": {},
   "outputs": [
    {
     "name": "stdout",
     "output_type": "stream",
     "text": [
      "Accuracy_score Testing Data:  97.14\n",
      "\n",
      " Classification_report Testing data:  \n",
      " \n",
      "               precision    recall  f1-score   support\n",
      "\n",
      "      cancer       0.97      0.95      0.96        73\n",
      "  non_cancer       0.97      0.99      0.98       137\n",
      "\n",
      "    accuracy                           0.97       210\n",
      "   macro avg       0.97      0.97      0.97       210\n",
      "weighted avg       0.97      0.97      0.97       210\n",
      "\n"
     ]
    }
   ],
   "source": [
    "print('Accuracy_score Testing Data: ',round(accuracy_score(y_test, y_pred)*100,2))\n",
    "\n",
    "print('\\n','Classification_report Testing data: ','\\n','\\n',classification_report(y_test, y_pred))"
   ]
  },
  {
   "cell_type": "code",
   "execution_count": 95,
   "metadata": {},
   "outputs": [
    {
     "name": "stdout",
     "output_type": "stream",
     "text": [
      "[[ 69   4]\n",
      " [  2 135]]\n"
     ]
    }
   ],
   "source": [
    "cm = confusion_matrix(y_test, y_pred)\n",
    "print(cm) "
   ]
  },
  {
   "cell_type": "markdown",
   "metadata": {},
   "source": [
    "# Training Accuracy "
   ]
  },
  {
   "cell_type": "code",
   "execution_count": 96,
   "metadata": {},
   "outputs": [
    {
     "name": "stdout",
     "output_type": "stream",
     "text": [
      "Accuracy_score Training Data:  97.55\n",
      "\n",
      " Classification_report Training Data:  \n",
      " \n",
      "               precision    recall  f1-score   support\n",
      "\n",
      "      cancer       0.94      0.99      0.97       168\n",
      "  non_cancer       1.00      0.97      0.98       321\n",
      "\n",
      "    accuracy                           0.98       489\n",
      "   macro avg       0.97      0.98      0.97       489\n",
      "weighted avg       0.98      0.98      0.98       489\n",
      "\n"
     ]
    }
   ],
   "source": [
    "print('Accuracy_score Training Data: ',round(accuracy_score(y_train, y_train_pred)*100,2))\n",
    "print('\\n','Classification_report Training Data: ','\\n','\\n',classification_report(y_train, y_train_pred))"
   ]
  },
  {
   "cell_type": "code",
   "execution_count": 97,
   "metadata": {},
   "outputs": [
    {
     "data": {
      "text/plain": [
       "array([[167,   1],\n",
       "       [ 11, 310]], dtype=int64)"
      ]
     },
     "execution_count": 97,
     "metadata": {},
     "output_type": "execute_result"
    }
   ],
   "source": [
    "confusion_matrix(y_train, y_train_pred)"
   ]
  },
  {
   "cell_type": "markdown",
   "metadata": {},
   "source": [
    "# GridSearch CV"
   ]
  },
  {
   "cell_type": "code",
   "execution_count": 104,
   "metadata": {},
   "outputs": [],
   "source": [
    "from sklearn.model_selection import GridSearchCV"
   ]
  },
  {
   "cell_type": "code",
   "execution_count": 105,
   "metadata": {
    "scrolled": false
   },
   "outputs": [
    {
     "name": "stdout",
     "output_type": "stream",
     "text": [
      "Best Params:  {'metric': 'manhattan', 'n_neighbors': 21}\n",
      "67.49\n"
     ]
    }
   ],
   "source": [
    "p = {'n_neighbors' : [3,5,20,21,22,31],\n",
    "     'metric' : ['manhattan','euclidean']\n",
    "    }\n",
    "\n",
    "model = GridSearchCV(clf,\n",
    "                     param_grid= p,\n",
    "                     cv = 5) # K fold Cross Validation and 10 is the number of folds you are dividing your data into,\n",
    "                     verbose = 10) # verbosity controls your display messages\n",
    "\n",
    "model.fit(X_train, y_train)\n",
    "grid_pred = model.predict(X_test)\n",
    "\n",
    "print('Best Params: ',model.best_params_)\n",
    "print(np.round((model.best_score_)*100,2 ))"
   ]
  },
  {
   "cell_type": "code",
   "execution_count": null,
   "metadata": {},
   "outputs": [],
   "source": [
    "np.where(df_res['y_test'] != df_res['y_pred'])"
   ]
  },
  {
   "cell_type": "code",
   "execution_count": 106,
   "metadata": {},
   "outputs": [
    {
     "data": {
      "text/plain": [
       "(array([  0,   7,   8,  12,  13,  16,  18,  19,  26,  28,  30,  32,  33,\n",
       "         34,  36,  38,  42,  49,  50,  52,  53,  55,  57,  60,  61,  65,\n",
       "         66,  74,  82,  91,  92,  99, 101, 105, 109, 115, 116, 117, 118,\n",
       "        119, 123, 125, 127, 128, 129, 137, 138, 139, 141, 142, 154, 155,\n",
       "        157, 161, 162, 164, 165, 166, 168, 169, 173, 178, 179, 182, 185,\n",
       "        189, 191, 194, 196, 200, 202, 203, 209], dtype=int64),)"
      ]
     },
     "execution_count": 106,
     "metadata": {},
     "output_type": "execute_result"
    }
   ],
   "source": [
    "np.where(grid_pred != df_res['y_pred'].values)"
   ]
  },
  {
   "cell_type": "code",
   "execution_count": null,
   "metadata": {},
   "outputs": [],
   "source": [
    "### FOR FINDING BEST VALUE OF K - N_NEIGHBORS\n",
    "\n",
    "# use loop --- use diferent values of K- n neighbors --\n",
    "# get the model trained using the above defined N neighbors\n",
    "# see the missclassified cases and aggregate them\n",
    "\n",
    "# then plot those misclassified cases w.r.t the number neighbors\n",
    "\n",
    "# Example :\n",
    "# x axis - neighbors = 3  --> misclssified cases - 5\n",
    "# x axis - neighbors = 5  --> misclssified cases - 2\n",
    "# x axis - neighbors = 7  --> misclssified cases - 3\n",
    "\n",
    "# from given Missclassified cases find your own optimal vale of K- n neighbors == having least number of Misclassified cases\n"
   ]
  },
  {
   "cell_type": "code",
   "execution_count": 98,
   "metadata": {},
   "outputs": [],
   "source": [
    "pred = []\n",
    "\n",
    "for i in range(3,15,2):\n",
    "    knn = KNeighborsClassifier(n_neighbors=i) # defining classifier with diff. vlue of K\n",
    "    knn.fit(X_train,y_train)\n",
    "    pred_data = knn.predict(X_test)\n",
    "    pred.append(pred_data)\n"
   ]
  },
  {
   "cell_type": "code",
   "execution_count": 99,
   "metadata": {},
   "outputs": [
    {
     "data": {
      "text/plain": [
       "[array(['cancer', 'non_cancer', 'non_cancer', 'cancer', 'cancer',\n",
       "        'non_cancer', 'non_cancer', 'cancer', 'non_cancer', 'cancer',\n",
       "        'cancer', 'non_cancer', 'cancer', 'non_cancer', 'non_cancer',\n",
       "        'non_cancer', 'non_cancer', 'non_cancer', 'non_cancer', 'cancer',\n",
       "        'cancer', 'non_cancer', 'cancer', 'cancer', 'non_cancer',\n",
       "        'non_cancer', 'non_cancer', 'cancer', 'non_cancer', 'non_cancer',\n",
       "        'cancer', 'non_cancer', 'non_cancer', 'cancer', 'non_cancer',\n",
       "        'cancer', 'non_cancer', 'non_cancer', 'non_cancer', 'non_cancer',\n",
       "        'non_cancer', 'cancer', 'cancer', 'cancer', 'non_cancer', 'cancer',\n",
       "        'non_cancer', 'non_cancer', 'non_cancer', 'cancer', 'non_cancer',\n",
       "        'non_cancer', 'non_cancer', 'cancer', 'non_cancer', 'non_cancer',\n",
       "        'non_cancer', 'non_cancer', 'non_cancer', 'non_cancer',\n",
       "        'non_cancer', 'non_cancer', 'cancer', 'cancer', 'non_cancer',\n",
       "        'non_cancer', 'non_cancer', 'non_cancer', 'cancer', 'non_cancer',\n",
       "        'cancer', 'non_cancer', 'non_cancer', 'non_cancer', 'non_cancer',\n",
       "        'non_cancer', 'non_cancer', 'non_cancer', 'non_cancer',\n",
       "        'non_cancer', 'non_cancer', 'non_cancer', 'non_cancer',\n",
       "        'non_cancer', 'cancer', 'non_cancer', 'non_cancer', 'cancer',\n",
       "        'non_cancer', 'non_cancer', 'cancer', 'cancer', 'non_cancer',\n",
       "        'non_cancer', 'cancer', 'cancer', 'non_cancer', 'non_cancer',\n",
       "        'non_cancer', 'non_cancer', 'non_cancer', 'non_cancer',\n",
       "        'non_cancer', 'non_cancer', 'non_cancer', 'non_cancer',\n",
       "        'non_cancer', 'cancer', 'cancer', 'non_cancer', 'non_cancer',\n",
       "        'non_cancer', 'non_cancer', 'cancer', 'non_cancer', 'non_cancer',\n",
       "        'cancer', 'non_cancer', 'cancer', 'non_cancer', 'non_cancer',\n",
       "        'non_cancer', 'cancer', 'non_cancer', 'non_cancer', 'non_cancer',\n",
       "        'non_cancer', 'cancer', 'non_cancer', 'non_cancer', 'non_cancer',\n",
       "        'non_cancer', 'non_cancer', 'cancer', 'non_cancer', 'non_cancer',\n",
       "        'non_cancer', 'non_cancer', 'non_cancer', 'non_cancer',\n",
       "        'non_cancer', 'non_cancer', 'cancer', 'non_cancer', 'cancer',\n",
       "        'non_cancer', 'non_cancer', 'non_cancer', 'non_cancer',\n",
       "        'non_cancer', 'cancer', 'non_cancer', 'non_cancer', 'non_cancer',\n",
       "        'non_cancer', 'cancer', 'non_cancer', 'non_cancer', 'cancer',\n",
       "        'non_cancer', 'non_cancer', 'non_cancer', 'non_cancer', 'cancer',\n",
       "        'non_cancer', 'non_cancer', 'non_cancer', 'non_cancer', 'cancer',\n",
       "        'cancer', 'non_cancer', 'cancer', 'non_cancer', 'non_cancer',\n",
       "        'non_cancer', 'non_cancer', 'non_cancer', 'non_cancer',\n",
       "        'non_cancer', 'non_cancer', 'cancer', 'non_cancer', 'non_cancer',\n",
       "        'non_cancer', 'non_cancer', 'cancer', 'non_cancer', 'non_cancer',\n",
       "        'non_cancer', 'cancer', 'non_cancer', 'cancer', 'non_cancer',\n",
       "        'non_cancer', 'non_cancer', 'non_cancer', 'non_cancer',\n",
       "        'non_cancer', 'non_cancer', 'non_cancer', 'non_cancer',\n",
       "        'non_cancer', 'non_cancer', 'non_cancer', 'non_cancer',\n",
       "        'non_cancer', 'non_cancer', 'cancer', 'non_cancer', 'non_cancer'],\n",
       "       dtype=object),\n",
       " array(['cancer', 'non_cancer', 'non_cancer', 'cancer', 'cancer',\n",
       "        'non_cancer', 'non_cancer', 'cancer', 'cancer', 'non_cancer',\n",
       "        'cancer', 'non_cancer', 'non_cancer', 'non_cancer', 'non_cancer',\n",
       "        'non_cancer', 'non_cancer', 'cancer', 'non_cancer', 'cancer',\n",
       "        'non_cancer', 'cancer', 'non_cancer', 'non_cancer', 'non_cancer',\n",
       "        'non_cancer', 'non_cancer', 'cancer', 'non_cancer', 'non_cancer',\n",
       "        'cancer', 'non_cancer', 'non_cancer', 'cancer', 'non_cancer',\n",
       "        'cancer', 'non_cancer', 'non_cancer', 'non_cancer', 'non_cancer',\n",
       "        'non_cancer', 'cancer', 'cancer', 'cancer', 'non_cancer', 'cancer',\n",
       "        'non_cancer', 'non_cancer', 'non_cancer', 'cancer', 'non_cancer',\n",
       "        'non_cancer', 'non_cancer', 'non_cancer', 'non_cancer',\n",
       "        'non_cancer', 'non_cancer', 'non_cancer', 'non_cancer',\n",
       "        'non_cancer', 'non_cancer', 'non_cancer', 'cancer', 'non_cancer',\n",
       "        'non_cancer', 'non_cancer', 'non_cancer', 'non_cancer', 'cancer',\n",
       "        'non_cancer', 'cancer', 'non_cancer', 'non_cancer', 'non_cancer',\n",
       "        'non_cancer', 'non_cancer', 'non_cancer', 'non_cancer',\n",
       "        'non_cancer', 'non_cancer', 'non_cancer', 'non_cancer',\n",
       "        'non_cancer', 'non_cancer', 'cancer', 'non_cancer', 'non_cancer',\n",
       "        'cancer', 'non_cancer', 'non_cancer', 'cancer', 'non_cancer',\n",
       "        'cancer', 'non_cancer', 'non_cancer', 'non_cancer', 'non_cancer',\n",
       "        'non_cancer', 'non_cancer', 'cancer', 'non_cancer', 'non_cancer',\n",
       "        'non_cancer', 'non_cancer', 'non_cancer', 'cancer', 'non_cancer',\n",
       "        'non_cancer', 'cancer', 'non_cancer', 'cancer', 'non_cancer',\n",
       "        'non_cancer', 'cancer', 'non_cancer', 'non_cancer', 'cancer',\n",
       "        'non_cancer', 'cancer', 'non_cancer', 'non_cancer', 'non_cancer',\n",
       "        'cancer', 'non_cancer', 'cancer', 'non_cancer', 'non_cancer',\n",
       "        'non_cancer', 'cancer', 'cancer', 'non_cancer', 'cancer',\n",
       "        'non_cancer', 'cancer', 'non_cancer', 'non_cancer', 'non_cancer',\n",
       "        'non_cancer', 'non_cancer', 'non_cancer', 'non_cancer',\n",
       "        'non_cancer', 'cancer', 'non_cancer', 'cancer', 'non_cancer',\n",
       "        'non_cancer', 'non_cancer', 'non_cancer', 'non_cancer', 'cancer',\n",
       "        'non_cancer', 'non_cancer', 'non_cancer', 'non_cancer', 'cancer',\n",
       "        'non_cancer', 'non_cancer', 'non_cancer', 'non_cancer',\n",
       "        'non_cancer', 'non_cancer', 'non_cancer', 'cancer', 'non_cancer',\n",
       "        'non_cancer', 'non_cancer', 'non_cancer', 'non_cancer', 'cancer',\n",
       "        'non_cancer', 'non_cancer', 'non_cancer', 'non_cancer',\n",
       "        'non_cancer', 'non_cancer', 'non_cancer', 'non_cancer',\n",
       "        'non_cancer', 'non_cancer', 'cancer', 'non_cancer', 'non_cancer',\n",
       "        'non_cancer', 'non_cancer', 'non_cancer', 'non_cancer',\n",
       "        'non_cancer', 'non_cancer', 'cancer', 'non_cancer', 'non_cancer',\n",
       "        'non_cancer', 'non_cancer', 'non_cancer', 'non_cancer',\n",
       "        'non_cancer', 'non_cancer', 'non_cancer', 'non_cancer',\n",
       "        'non_cancer', 'non_cancer', 'non_cancer', 'non_cancer',\n",
       "        'non_cancer', 'cancer', 'non_cancer', 'non_cancer', 'non_cancer',\n",
       "        'non_cancer'], dtype=object),\n",
       " array(['cancer', 'non_cancer', 'non_cancer', 'cancer', 'cancer',\n",
       "        'non_cancer', 'non_cancer', 'non_cancer', 'cancer', 'non_cancer',\n",
       "        'non_cancer', 'non_cancer', 'cancer', 'cancer', 'non_cancer',\n",
       "        'non_cancer', 'non_cancer', 'non_cancer', 'non_cancer', 'cancer',\n",
       "        'non_cancer', 'cancer', 'non_cancer', 'non_cancer', 'non_cancer',\n",
       "        'non_cancer', 'non_cancer', 'non_cancer', 'non_cancer',\n",
       "        'non_cancer', 'non_cancer', 'non_cancer', 'non_cancer',\n",
       "        'non_cancer', 'non_cancer', 'non_cancer', 'non_cancer',\n",
       "        'non_cancer', 'non_cancer', 'non_cancer', 'non_cancer',\n",
       "        'non_cancer', 'cancer', 'cancer', 'non_cancer', 'cancer',\n",
       "        'non_cancer', 'non_cancer', 'non_cancer', 'cancer', 'non_cancer',\n",
       "        'non_cancer', 'non_cancer', 'non_cancer', 'non_cancer',\n",
       "        'non_cancer', 'non_cancer', 'non_cancer', 'non_cancer',\n",
       "        'non_cancer', 'non_cancer', 'non_cancer', 'cancer', 'non_cancer',\n",
       "        'non_cancer', 'non_cancer', 'non_cancer', 'non_cancer', 'cancer',\n",
       "        'non_cancer', 'non_cancer', 'non_cancer', 'non_cancer',\n",
       "        'non_cancer', 'non_cancer', 'non_cancer', 'non_cancer',\n",
       "        'non_cancer', 'non_cancer', 'non_cancer', 'non_cancer',\n",
       "        'non_cancer', 'non_cancer', 'non_cancer', 'cancer', 'non_cancer',\n",
       "        'non_cancer', 'cancer', 'non_cancer', 'non_cancer', 'non_cancer',\n",
       "        'non_cancer', 'cancer', 'non_cancer', 'non_cancer', 'non_cancer',\n",
       "        'non_cancer', 'non_cancer', 'non_cancer', 'non_cancer',\n",
       "        'non_cancer', 'non_cancer', 'non_cancer', 'non_cancer',\n",
       "        'non_cancer', 'non_cancer', 'non_cancer', 'non_cancer', 'cancer',\n",
       "        'non_cancer', 'cancer', 'non_cancer', 'non_cancer', 'non_cancer',\n",
       "        'non_cancer', 'non_cancer', 'cancer', 'non_cancer', 'cancer',\n",
       "        'non_cancer', 'non_cancer', 'non_cancer', 'non_cancer',\n",
       "        'non_cancer', 'cancer', 'non_cancer', 'non_cancer', 'non_cancer',\n",
       "        'cancer', 'non_cancer', 'non_cancer', 'cancer', 'non_cancer',\n",
       "        'non_cancer', 'non_cancer', 'non_cancer', 'non_cancer',\n",
       "        'non_cancer', 'non_cancer', 'non_cancer', 'non_cancer',\n",
       "        'non_cancer', 'cancer', 'non_cancer', 'cancer', 'non_cancer',\n",
       "        'non_cancer', 'non_cancer', 'non_cancer', 'non_cancer',\n",
       "        'non_cancer', 'non_cancer', 'non_cancer', 'non_cancer',\n",
       "        'non_cancer', 'cancer', 'non_cancer', 'non_cancer', 'cancer',\n",
       "        'non_cancer', 'non_cancer', 'non_cancer', 'non_cancer', 'cancer',\n",
       "        'non_cancer', 'non_cancer', 'cancer', 'non_cancer', 'non_cancer',\n",
       "        'cancer', 'non_cancer', 'non_cancer', 'non_cancer', 'non_cancer',\n",
       "        'non_cancer', 'non_cancer', 'non_cancer', 'non_cancer',\n",
       "        'non_cancer', 'non_cancer', 'cancer', 'non_cancer', 'non_cancer',\n",
       "        'non_cancer', 'non_cancer', 'cancer', 'non_cancer', 'non_cancer',\n",
       "        'non_cancer', 'cancer', 'non_cancer', 'non_cancer', 'non_cancer',\n",
       "        'non_cancer', 'non_cancer', 'non_cancer', 'non_cancer',\n",
       "        'non_cancer', 'non_cancer', 'non_cancer', 'non_cancer',\n",
       "        'non_cancer', 'non_cancer', 'non_cancer', 'non_cancer',\n",
       "        'non_cancer', 'non_cancer', 'non_cancer', 'non_cancer',\n",
       "        'non_cancer'], dtype=object),\n",
       " array(['cancer', 'non_cancer', 'non_cancer', 'cancer', 'cancer',\n",
       "        'non_cancer', 'non_cancer', 'non_cancer', 'cancer', 'non_cancer',\n",
       "        'non_cancer', 'non_cancer', 'cancer', 'cancer', 'non_cancer',\n",
       "        'non_cancer', 'non_cancer', 'non_cancer', 'non_cancer', 'cancer',\n",
       "        'non_cancer', 'cancer', 'non_cancer', 'non_cancer', 'non_cancer',\n",
       "        'non_cancer', 'non_cancer', 'non_cancer', 'non_cancer',\n",
       "        'non_cancer', 'cancer', 'non_cancer', 'non_cancer', 'non_cancer',\n",
       "        'non_cancer', 'cancer', 'non_cancer', 'non_cancer', 'non_cancer',\n",
       "        'non_cancer', 'non_cancer', 'non_cancer', 'cancer', 'cancer',\n",
       "        'non_cancer', 'cancer', 'non_cancer', 'non_cancer', 'non_cancer',\n",
       "        'cancer', 'non_cancer', 'non_cancer', 'non_cancer', 'non_cancer',\n",
       "        'non_cancer', 'non_cancer', 'non_cancer', 'non_cancer',\n",
       "        'non_cancer', 'non_cancer', 'non_cancer', 'non_cancer', 'cancer',\n",
       "        'non_cancer', 'non_cancer', 'non_cancer', 'non_cancer',\n",
       "        'non_cancer', 'cancer', 'non_cancer', 'non_cancer', 'non_cancer',\n",
       "        'non_cancer', 'non_cancer', 'non_cancer', 'non_cancer',\n",
       "        'non_cancer', 'non_cancer', 'non_cancer', 'non_cancer',\n",
       "        'non_cancer', 'non_cancer', 'non_cancer', 'non_cancer', 'cancer',\n",
       "        'non_cancer', 'non_cancer', 'cancer', 'non_cancer', 'non_cancer',\n",
       "        'non_cancer', 'non_cancer', 'cancer', 'non_cancer', 'non_cancer',\n",
       "        'non_cancer', 'non_cancer', 'non_cancer', 'non_cancer',\n",
       "        'non_cancer', 'non_cancer', 'non_cancer', 'non_cancer',\n",
       "        'non_cancer', 'non_cancer', 'non_cancer', 'non_cancer',\n",
       "        'non_cancer', 'cancer', 'non_cancer', 'non_cancer', 'non_cancer',\n",
       "        'non_cancer', 'non_cancer', 'non_cancer', 'non_cancer', 'cancer',\n",
       "        'non_cancer', 'cancer', 'non_cancer', 'non_cancer', 'non_cancer',\n",
       "        'non_cancer', 'non_cancer', 'non_cancer', 'non_cancer',\n",
       "        'non_cancer', 'non_cancer', 'cancer', 'non_cancer', 'non_cancer',\n",
       "        'cancer', 'non_cancer', 'cancer', 'non_cancer', 'non_cancer',\n",
       "        'non_cancer', 'non_cancer', 'non_cancer', 'non_cancer',\n",
       "        'non_cancer', 'non_cancer', 'cancer', 'non_cancer', 'non_cancer',\n",
       "        'non_cancer', 'non_cancer', 'non_cancer', 'non_cancer',\n",
       "        'non_cancer', 'non_cancer', 'non_cancer', 'non_cancer',\n",
       "        'non_cancer', 'non_cancer', 'cancer', 'non_cancer', 'non_cancer',\n",
       "        'cancer', 'non_cancer', 'non_cancer', 'non_cancer', 'non_cancer',\n",
       "        'cancer', 'non_cancer', 'non_cancer', 'cancer', 'non_cancer',\n",
       "        'non_cancer', 'cancer', 'non_cancer', 'non_cancer', 'non_cancer',\n",
       "        'non_cancer', 'non_cancer', 'non_cancer', 'non_cancer',\n",
       "        'non_cancer', 'non_cancer', 'non_cancer', 'cancer', 'non_cancer',\n",
       "        'non_cancer', 'non_cancer', 'non_cancer', 'cancer', 'non_cancer',\n",
       "        'non_cancer', 'non_cancer', 'non_cancer', 'non_cancer',\n",
       "        'non_cancer', 'non_cancer', 'non_cancer', 'non_cancer',\n",
       "        'non_cancer', 'non_cancer', 'non_cancer', 'non_cancer',\n",
       "        'non_cancer', 'non_cancer', 'non_cancer', 'non_cancer', 'cancer',\n",
       "        'non_cancer', 'non_cancer', 'non_cancer', 'non_cancer',\n",
       "        'non_cancer', 'non_cancer'], dtype=object),\n",
       " array(['cancer', 'non_cancer', 'non_cancer', 'non_cancer', 'cancer',\n",
       "        'cancer', 'non_cancer', 'non_cancer', 'cancer', 'non_cancer',\n",
       "        'non_cancer', 'non_cancer', 'cancer', 'cancer', 'non_cancer',\n",
       "        'non_cancer', 'non_cancer', 'non_cancer', 'non_cancer',\n",
       "        'non_cancer', 'non_cancer', 'non_cancer', 'non_cancer',\n",
       "        'non_cancer', 'non_cancer', 'non_cancer', 'non_cancer', 'cancer',\n",
       "        'non_cancer', 'non_cancer', 'cancer', 'non_cancer', 'non_cancer',\n",
       "        'non_cancer', 'non_cancer', 'cancer', 'non_cancer', 'non_cancer',\n",
       "        'non_cancer', 'non_cancer', 'non_cancer', 'non_cancer', 'cancer',\n",
       "        'cancer', 'non_cancer', 'cancer', 'non_cancer', 'non_cancer',\n",
       "        'non_cancer', 'cancer', 'non_cancer', 'non_cancer', 'non_cancer',\n",
       "        'non_cancer', 'non_cancer', 'non_cancer', 'non_cancer',\n",
       "        'non_cancer', 'non_cancer', 'non_cancer', 'non_cancer',\n",
       "        'non_cancer', 'cancer', 'non_cancer', 'non_cancer', 'non_cancer',\n",
       "        'non_cancer', 'non_cancer', 'cancer', 'non_cancer', 'non_cancer',\n",
       "        'non_cancer', 'non_cancer', 'non_cancer', 'cancer', 'non_cancer',\n",
       "        'non_cancer', 'non_cancer', 'non_cancer', 'non_cancer',\n",
       "        'non_cancer', 'non_cancer', 'non_cancer', 'non_cancer', 'cancer',\n",
       "        'non_cancer', 'non_cancer', 'cancer', 'non_cancer', 'non_cancer',\n",
       "        'non_cancer', 'non_cancer', 'non_cancer', 'non_cancer',\n",
       "        'non_cancer', 'non_cancer', 'non_cancer', 'non_cancer',\n",
       "        'non_cancer', 'non_cancer', 'non_cancer', 'non_cancer',\n",
       "        'non_cancer', 'non_cancer', 'non_cancer', 'cancer', 'non_cancer',\n",
       "        'non_cancer', 'cancer', 'non_cancer', 'non_cancer', 'non_cancer',\n",
       "        'non_cancer', 'non_cancer', 'non_cancer', 'non_cancer', 'cancer',\n",
       "        'non_cancer', 'cancer', 'non_cancer', 'non_cancer', 'cancer',\n",
       "        'non_cancer', 'non_cancer', 'non_cancer', 'non_cancer',\n",
       "        'non_cancer', 'non_cancer', 'cancer', 'non_cancer', 'non_cancer',\n",
       "        'cancer', 'non_cancer', 'non_cancer', 'non_cancer', 'non_cancer',\n",
       "        'non_cancer', 'non_cancer', 'non_cancer', 'non_cancer',\n",
       "        'non_cancer', 'non_cancer', 'non_cancer', 'non_cancer',\n",
       "        'non_cancer', 'non_cancer', 'non_cancer', 'non_cancer', 'cancer',\n",
       "        'non_cancer', 'non_cancer', 'non_cancer', 'non_cancer', 'cancer',\n",
       "        'cancer', 'cancer', 'non_cancer', 'non_cancer', 'cancer',\n",
       "        'non_cancer', 'non_cancer', 'non_cancer', 'non_cancer', 'cancer',\n",
       "        'non_cancer', 'non_cancer', 'cancer', 'non_cancer', 'non_cancer',\n",
       "        'cancer', 'non_cancer', 'non_cancer', 'non_cancer', 'non_cancer',\n",
       "        'non_cancer', 'non_cancer', 'non_cancer', 'non_cancer',\n",
       "        'non_cancer', 'non_cancer', 'cancer', 'non_cancer', 'non_cancer',\n",
       "        'non_cancer', 'non_cancer', 'cancer', 'non_cancer', 'non_cancer',\n",
       "        'non_cancer', 'cancer', 'non_cancer', 'non_cancer', 'non_cancer',\n",
       "        'non_cancer', 'non_cancer', 'non_cancer', 'non_cancer',\n",
       "        'non_cancer', 'non_cancer', 'non_cancer', 'non_cancer',\n",
       "        'non_cancer', 'non_cancer', 'cancer', 'non_cancer', 'non_cancer',\n",
       "        'non_cancer', 'non_cancer', 'non_cancer', 'non_cancer'],\n",
       "       dtype=object),\n",
       " array(['cancer', 'non_cancer', 'non_cancer', 'non_cancer', 'cancer',\n",
       "        'cancer', 'non_cancer', 'non_cancer', 'cancer', 'non_cancer',\n",
       "        'non_cancer', 'non_cancer', 'cancer', 'cancer', 'non_cancer',\n",
       "        'non_cancer', 'non_cancer', 'non_cancer', 'non_cancer',\n",
       "        'non_cancer', 'non_cancer', 'cancer', 'non_cancer', 'non_cancer',\n",
       "        'non_cancer', 'non_cancer', 'non_cancer', 'cancer', 'non_cancer',\n",
       "        'non_cancer', 'cancer', 'non_cancer', 'non_cancer', 'non_cancer',\n",
       "        'non_cancer', 'cancer', 'non_cancer', 'non_cancer', 'non_cancer',\n",
       "        'non_cancer', 'non_cancer', 'cancer', 'cancer', 'cancer',\n",
       "        'non_cancer', 'cancer', 'non_cancer', 'non_cancer', 'non_cancer',\n",
       "        'cancer', 'non_cancer', 'non_cancer', 'non_cancer', 'non_cancer',\n",
       "        'non_cancer', 'non_cancer', 'non_cancer', 'non_cancer',\n",
       "        'non_cancer', 'non_cancer', 'non_cancer', 'non_cancer', 'cancer',\n",
       "        'non_cancer', 'non_cancer', 'non_cancer', 'non_cancer',\n",
       "        'non_cancer', 'non_cancer', 'non_cancer', 'non_cancer',\n",
       "        'non_cancer', 'non_cancer', 'non_cancer', 'cancer', 'non_cancer',\n",
       "        'non_cancer', 'non_cancer', 'non_cancer', 'non_cancer',\n",
       "        'non_cancer', 'non_cancer', 'non_cancer', 'non_cancer', 'cancer',\n",
       "        'non_cancer', 'non_cancer', 'cancer', 'non_cancer', 'non_cancer',\n",
       "        'non_cancer', 'non_cancer', 'non_cancer', 'non_cancer',\n",
       "        'non_cancer', 'non_cancer', 'non_cancer', 'non_cancer',\n",
       "        'non_cancer', 'non_cancer', 'non_cancer', 'non_cancer',\n",
       "        'non_cancer', 'non_cancer', 'non_cancer', 'cancer', 'non_cancer',\n",
       "        'non_cancer', 'cancer', 'non_cancer', 'non_cancer', 'non_cancer',\n",
       "        'non_cancer', 'non_cancer', 'non_cancer', 'non_cancer', 'cancer',\n",
       "        'non_cancer', 'cancer', 'non_cancer', 'non_cancer', 'cancer',\n",
       "        'non_cancer', 'non_cancer', 'non_cancer', 'non_cancer',\n",
       "        'non_cancer', 'non_cancer', 'cancer', 'non_cancer', 'non_cancer',\n",
       "        'cancer', 'non_cancer', 'non_cancer', 'non_cancer', 'non_cancer',\n",
       "        'non_cancer', 'non_cancer', 'non_cancer', 'non_cancer',\n",
       "        'non_cancer', 'non_cancer', 'non_cancer', 'non_cancer', 'cancer',\n",
       "        'non_cancer', 'non_cancer', 'non_cancer', 'non_cancer',\n",
       "        'non_cancer', 'non_cancer', 'non_cancer', 'non_cancer',\n",
       "        'non_cancer', 'cancer', 'cancer', 'non_cancer', 'non_cancer',\n",
       "        'cancer', 'non_cancer', 'non_cancer', 'non_cancer', 'non_cancer',\n",
       "        'cancer', 'non_cancer', 'non_cancer', 'cancer', 'non_cancer',\n",
       "        'non_cancer', 'cancer', 'non_cancer', 'non_cancer', 'non_cancer',\n",
       "        'non_cancer', 'non_cancer', 'non_cancer', 'non_cancer',\n",
       "        'non_cancer', 'non_cancer', 'non_cancer', 'non_cancer',\n",
       "        'non_cancer', 'non_cancer', 'non_cancer', 'non_cancer', 'cancer',\n",
       "        'non_cancer', 'non_cancer', 'non_cancer', 'cancer', 'non_cancer',\n",
       "        'non_cancer', 'non_cancer', 'non_cancer', 'non_cancer',\n",
       "        'non_cancer', 'non_cancer', 'non_cancer', 'non_cancer',\n",
       "        'non_cancer', 'non_cancer', 'non_cancer', 'non_cancer', 'cancer',\n",
       "        'non_cancer', 'non_cancer', 'non_cancer', 'non_cancer',\n",
       "        'non_cancer', 'non_cancer'], dtype=object)]"
      ]
     },
     "execution_count": 99,
     "metadata": {},
     "output_type": "execute_result"
    }
   ],
   "source": [
    "pred"
   ]
  },
  {
   "cell_type": "code",
   "execution_count": 100,
   "metadata": {},
   "outputs": [
    {
     "data": {
      "text/plain": [
       "[(0, 3),\n",
       " (1, 5),\n",
       " (2, 7),\n",
       " (3, 9),\n",
       " (4, 11),\n",
       " (5, 13),\n",
       " (6, 15),\n",
       " (7, 17),\n",
       " (8, 19),\n",
       " (9, 21),\n",
       " (10, 23),\n",
       " (11, 25),\n",
       " (12, 27),\n",
       " (13, 29),\n",
       " (14, 31),\n",
       " (15, 33),\n",
       " (16, 35),\n",
       " (17, 37),\n",
       " (18, 39)]"
      ]
     },
     "execution_count": 100,
     "metadata": {},
     "output_type": "execute_result"
    }
   ],
   "source": [
    "[i for i in enumerate(list(np.arange(3,40,2)))]\n",
    "\n",
    "# np.argmin(l) "
   ]
  },
  {
   "cell_type": "code",
   "execution_count": 102,
   "metadata": {},
   "outputs": [
    {
     "name": "stdout",
     "output_type": "stream",
     "text": [
      "count of is matched values  [84, 82, 73, 73, 74, 73]\n",
      "[40.         39.04761905 34.76190476 34.76190476 35.23809524 34.76190476]\n",
      "[3, 5, 7, 9, 11, 13]\n"
     ]
    }
   ],
   "source": [
    "miss_match_count = []\n",
    "for j in range(0, len(pred)):\n",
    "     miss_match_count.append(sum(y_test!=pred[j]))\n",
    "\n",
    "print('count of is matched values ',miss_match_count) \n",
    "percent_mis_match = (np.array(miss_match_count)/len(y_test))*100\n",
    "\n",
    "print(percent_mis_match)\n",
    "\n",
    "k_value = [i for i in range(3,15,2)]\n",
    "\n",
    "print(k_value)\n"
   ]
  },
  {
   "cell_type": "code",
   "execution_count": 103,
   "metadata": {},
   "outputs": [
    {
     "name": "stdout",
     "output_type": "stream",
     "text": [
      "[84, 82, 73, 73, 74, 73]\n"
     ]
    },
    {
     "data": {
      "image/png": "[encoded data removed]",
      "text/plain": [
       "<Figure size 720x360 with 1 Axes>"
      ]
     },
     "metadata": {
      "needs_background": "light"
     },
     "output_type": "display_data"
    }
   ],
   "source": [
    "fig = plt.figure(figsize = (10,5))\n",
    "\n",
    "plt.scatter(k_value, miss_match_count,  marker = '^' ,\n",
    "            edgecolors= 'black' , \n",
    "            color = 'green', # Face Color\n",
    "            s = 450 , # size\n",
    "            alpha = .8 )\n",
    "\n",
    "plt.title('Non matching Count vs. K Value')\n",
    "plt.xlabel('K')\n",
    "\n",
    "\n",
    "plt.ylabel('Mis Match Count');\n",
    "plt.xticks(range(3,15))\n",
    "print(miss_match_count) "
   ]
  }
 ],
 "metadata": {
  "kernelspec": {
   "display_name": "Python 3",
   "language": "python",
   "name": "python3"
  },
  "language_info": {
   "codemirror_mode": {
    "name": "ipython",
    "version": 3
   },
   "file_extension": ".py",
   "mimetype": "text/x-python",
   "name": "python",
   "nbconvert_exporter": "python",
   "pygments_lexer": "ipython3",
   "version": "3.7.6"
  }
 },
 "nbformat": 4,
 "nbformat_minor": 2
}
